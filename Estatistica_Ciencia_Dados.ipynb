{
  "nbformat": 4,
  "nbformat_minor": 0,
  "metadata": {
    "colab": {
      "name": "Estatistica_Ciencia_Dados.ipynb",
      "provenance": [],
      "include_colab_link": true
    },
    "kernelspec": {
      "display_name": "Python 3",
      "name": "python3"
    },
    "language_info": {
      "name": "python"
    }
  },
  "cells": [
    {
      "cell_type": "markdown",
      "metadata": {
        "id": "view-in-github",
        "colab_type": "text"
      },
      "source": [
        "<a href=\"https://colab.research.google.com/github/jscienciadados/estatistic-datascience/blob/main/Estatistica_Ciencia_Dados.ipynb\" target=\"_parent\"><img src=\"https://colab.research.google.com/assets/colab-badge.svg\" alt=\"Open In Colab\"/></a>"
      ]
    },
    {
      "cell_type": "markdown",
      "metadata": {
        "id": "OqCJ0KdIXjVT"
      },
      "source": [
        "#Trabalhando com Estatística"
      ]
    },
    {
      "cell_type": "code",
      "metadata": {
        "id": "8aepIc5OXYYY"
      },
      "source": [
        "import numpy as np\n",
        "import pandas as pd"
      ],
      "execution_count": 1,
      "outputs": []
    },
    {
      "cell_type": "markdown",
      "metadata": {
        "id": "tuKdO2sKaAqo"
      },
      "source": [
        "Carregando a base de dados"
      ]
    },
    {
      "cell_type": "code",
      "metadata": {
        "colab": {
          "base_uri": "https://localhost:8080/",
          "height": 204
        },
        "id": "J4iCKiXBXgym",
        "outputId": "be8abd08-c409-4a90-e76d-de44b45a4c52"
      },
      "source": [
        "base = pd.read_csv('dados/iris.csv')\n",
        "base.head()"
      ],
      "execution_count": null,
      "outputs": [
        {
          "output_type": "execute_result",
          "data": {
            "text/html": [
              "<div>\n",
              "<style scoped>\n",
              "    .dataframe tbody tr th:only-of-type {\n",
              "        vertical-align: middle;\n",
              "    }\n",
              "\n",
              "    .dataframe tbody tr th {\n",
              "        vertical-align: top;\n",
              "    }\n",
              "\n",
              "    .dataframe thead th {\n",
              "        text-align: right;\n",
              "    }\n",
              "</style>\n",
              "<table border=\"1\" class=\"dataframe\">\n",
              "  <thead>\n",
              "    <tr style=\"text-align: right;\">\n",
              "      <th></th>\n",
              "      <th>sepal length</th>\n",
              "      <th>sepal width</th>\n",
              "      <th>petal length</th>\n",
              "      <th>petal width</th>\n",
              "      <th>class</th>\n",
              "    </tr>\n",
              "  </thead>\n",
              "  <tbody>\n",
              "    <tr>\n",
              "      <th>0</th>\n",
              "      <td>5.1</td>\n",
              "      <td>3.5</td>\n",
              "      <td>1.4</td>\n",
              "      <td>0.2</td>\n",
              "      <td>Iris-setosa</td>\n",
              "    </tr>\n",
              "    <tr>\n",
              "      <th>1</th>\n",
              "      <td>4.9</td>\n",
              "      <td>3.0</td>\n",
              "      <td>1.4</td>\n",
              "      <td>0.2</td>\n",
              "      <td>Iris-setosa</td>\n",
              "    </tr>\n",
              "    <tr>\n",
              "      <th>2</th>\n",
              "      <td>4.7</td>\n",
              "      <td>3.2</td>\n",
              "      <td>1.3</td>\n",
              "      <td>0.2</td>\n",
              "      <td>Iris-setosa</td>\n",
              "    </tr>\n",
              "    <tr>\n",
              "      <th>3</th>\n",
              "      <td>4.6</td>\n",
              "      <td>3.1</td>\n",
              "      <td>1.5</td>\n",
              "      <td>0.2</td>\n",
              "      <td>Iris-setosa</td>\n",
              "    </tr>\n",
              "    <tr>\n",
              "      <th>4</th>\n",
              "      <td>5.0</td>\n",
              "      <td>3.6</td>\n",
              "      <td>1.4</td>\n",
              "      <td>0.2</td>\n",
              "      <td>Iris-setosa</td>\n",
              "    </tr>\n",
              "  </tbody>\n",
              "</table>\n",
              "</div>"
            ],
            "text/plain": [
              "   sepal length  sepal width  petal length  petal width        class\n",
              "0           5.1          3.5           1.4          0.2  Iris-setosa\n",
              "1           4.9          3.0           1.4          0.2  Iris-setosa\n",
              "2           4.7          3.2           1.3          0.2  Iris-setosa\n",
              "3           4.6          3.1           1.5          0.2  Iris-setosa\n",
              "4           5.0          3.6           1.4          0.2  Iris-setosa"
            ]
          },
          "metadata": {
            "tags": []
          },
          "execution_count": 3
        }
      ]
    },
    {
      "cell_type": "code",
      "metadata": {
        "colab": {
          "base_uri": "https://localhost:8080/"
        },
        "id": "Qrj-W-gKaRoh",
        "outputId": "437f69db-95c6-47bc-f816-882df417a0ab"
      },
      "source": [
        "# shape\n",
        "base.shape"
      ],
      "execution_count": null,
      "outputs": [
        {
          "output_type": "execute_result",
          "data": {
            "text/plain": [
              "(150, 5)"
            ]
          },
          "metadata": {
            "tags": []
          },
          "execution_count": 4
        }
      ]
    },
    {
      "cell_type": "markdown",
      "metadata": {
        "id": "mR6xcw4rccJH"
      },
      "source": [
        "#<font color=\"blue\">Amostragem Simples</font>"
      ]
    },
    {
      "cell_type": "code",
      "metadata": {
        "colab": {
          "base_uri": "https://localhost:8080/"
        },
        "id": "14IlfJq2ah1w",
        "outputId": "1b595b9a-bfac-467d-bca6-ec4ff3100b6e"
      },
      "source": [
        "# Mudança de semente aleatoria para manter os resultados em varias execuções\n",
        "np.random.seed(2345)\n",
        "\n",
        "amostra = np.random.choice(a = [0,1], size= 150, replace= True, p = [0.7, 0.3])\n",
        "\n",
        "# verifica tamanho da amostra\n",
        "print('amostra original', len(amostra))\n",
        "\n",
        "# tamanho da amostra para valores 1 e 0\n",
        "print('amostra igual a 1 ', len(amostra[amostra == 1]))\n",
        "print('amostra igual a 0 ', len(amostra[amostra == 0]))"
      ],
      "execution_count": null,
      "outputs": [
        {
          "output_type": "stream",
          "text": [
            "amostra original 150\n",
            "amostra igual a 1  49\n",
            "amostra igual a 0  101\n"
          ],
          "name": "stdout"
        }
      ]
    },
    {
      "cell_type": "code",
      "metadata": {
        "colab": {
          "base_uri": "https://localhost:8080/"
        },
        "id": "kl-rIIcYb2sP",
        "outputId": "f41bcd07-64fa-47ec-c7db-74a24fbbd944"
      },
      "source": [
        "base_final = base.loc[amostra == 0]\n",
        "base_final.shape"
      ],
      "execution_count": null,
      "outputs": [
        {
          "output_type": "execute_result",
          "data": {
            "text/plain": [
              "(101, 5)"
            ]
          },
          "metadata": {
            "tags": []
          },
          "execution_count": 8
        }
      ]
    },
    {
      "cell_type": "markdown",
      "metadata": {
        "id": "Oerh5B3yfQ88"
      },
      "source": [
        "#<font color=\"green\">Amostragem Estratificada</font>"
      ]
    },
    {
      "cell_type": "code",
      "metadata": {
        "id": "raCfwAwKcUkl"
      },
      "source": [
        "# Base de Dados\n",
        "from sklearn.model_selection import train_test_split"
      ],
      "execution_count": null,
      "outputs": []
    },
    {
      "cell_type": "code",
      "metadata": {
        "colab": {
          "background_save": true,
          "base_uri": "https://localhost:8080/"
        },
        "id": "I0u5qFghfjv2",
        "outputId": "e316b972-9159-461f-d7d3-15d2a6522f8c"
      },
      "source": [
        "# dados\n",
        "iris = pd.read_csv(\"dados/iris.csv\")\n",
        "iris['class'].value_counts()"
      ],
      "execution_count": null,
      "outputs": [
        {
          "output_type": "execute_result",
          "data": {
            "text/plain": [
              "Iris-virginica     50\n",
              "Iris-versicolor    50\n",
              "Iris-setosa        50\n",
              "Name: class, dtype: int64"
            ]
          },
          "metadata": {
            "tags": []
          },
          "execution_count": 0
        }
      ]
    },
    {
      "cell_type": "code",
      "metadata": {
        "id": "UsTV9-bDf4FD",
        "colab": {
          "base_uri": "https://localhost:8080/"
        },
        "outputId": "e8fecd6b-3c71-4712-eae1-aadc1a32d6d1"
      },
      "source": [
        "# Buscando os previsores -> iris[:, 0:4]\n",
        "# Buscando somente a classe -> iris[:, 4]\n",
        "# o _ -> é para os outros valores que nao iremos usar.\n",
        "\n",
        "x, _, y, _ = train_test_split(iris.iloc[:, 0:4], iris.iloc[:, 4],\n",
        "                           test_size = 0.5, stratify = iris.iloc[:,4])\n",
        "\n",
        "y.value_counts()\n",
        "\n",
        " \n"
      ],
      "execution_count": null,
      "outputs": [
        {
          "output_type": "execute_result",
          "data": {
            "text/plain": [
              "Iris-virginica     25\n",
              "Iris-setosa        25\n",
              "Iris-versicolor    25\n",
              "Name: class, dtype: int64"
            ]
          },
          "metadata": {
            "tags": []
          },
          "execution_count": 13
        }
      ]
    },
    {
      "cell_type": "code",
      "metadata": {
        "colab": {
          "base_uri": "https://localhost:8080/",
          "height": 204
        },
        "id": "hT38YZYnhKQX",
        "outputId": "f41bc863-bd52-4bd3-c6be-6a56c5146ee3"
      },
      "source": [
        "# Carregando a base de dados infert e realizando a contagem dos registros\n",
        "infert = pd.read_csv(\"dados/infert.csv\")\n",
        "infert.head()"
      ],
      "execution_count": null,
      "outputs": [
        {
          "output_type": "execute_result",
          "data": {
            "text/html": [
              "<div>\n",
              "<style scoped>\n",
              "    .dataframe tbody tr th:only-of-type {\n",
              "        vertical-align: middle;\n",
              "    }\n",
              "\n",
              "    .dataframe tbody tr th {\n",
              "        vertical-align: top;\n",
              "    }\n",
              "\n",
              "    .dataframe thead th {\n",
              "        text-align: right;\n",
              "    }\n",
              "</style>\n",
              "<table border=\"1\" class=\"dataframe\">\n",
              "  <thead>\n",
              "    <tr style=\"text-align: right;\">\n",
              "      <th></th>\n",
              "      <th>Unnamed: 0</th>\n",
              "      <th>education</th>\n",
              "      <th>age</th>\n",
              "      <th>parity</th>\n",
              "      <th>induced</th>\n",
              "      <th>case</th>\n",
              "      <th>spontaneous</th>\n",
              "      <th>stratum</th>\n",
              "      <th>pooled.stratum</th>\n",
              "    </tr>\n",
              "  </thead>\n",
              "  <tbody>\n",
              "    <tr>\n",
              "      <th>0</th>\n",
              "      <td>1</td>\n",
              "      <td>0-5yrs</td>\n",
              "      <td>26</td>\n",
              "      <td>6</td>\n",
              "      <td>1</td>\n",
              "      <td>1</td>\n",
              "      <td>2</td>\n",
              "      <td>1</td>\n",
              "      <td>3</td>\n",
              "    </tr>\n",
              "    <tr>\n",
              "      <th>1</th>\n",
              "      <td>2</td>\n",
              "      <td>0-5yrs</td>\n",
              "      <td>42</td>\n",
              "      <td>1</td>\n",
              "      <td>1</td>\n",
              "      <td>1</td>\n",
              "      <td>0</td>\n",
              "      <td>2</td>\n",
              "      <td>1</td>\n",
              "    </tr>\n",
              "    <tr>\n",
              "      <th>2</th>\n",
              "      <td>3</td>\n",
              "      <td>0-5yrs</td>\n",
              "      <td>39</td>\n",
              "      <td>6</td>\n",
              "      <td>2</td>\n",
              "      <td>1</td>\n",
              "      <td>0</td>\n",
              "      <td>3</td>\n",
              "      <td>4</td>\n",
              "    </tr>\n",
              "    <tr>\n",
              "      <th>3</th>\n",
              "      <td>4</td>\n",
              "      <td>0-5yrs</td>\n",
              "      <td>34</td>\n",
              "      <td>4</td>\n",
              "      <td>2</td>\n",
              "      <td>1</td>\n",
              "      <td>0</td>\n",
              "      <td>4</td>\n",
              "      <td>2</td>\n",
              "    </tr>\n",
              "    <tr>\n",
              "      <th>4</th>\n",
              "      <td>5</td>\n",
              "      <td>6-11yrs</td>\n",
              "      <td>35</td>\n",
              "      <td>3</td>\n",
              "      <td>1</td>\n",
              "      <td>1</td>\n",
              "      <td>1</td>\n",
              "      <td>5</td>\n",
              "      <td>32</td>\n",
              "    </tr>\n",
              "  </tbody>\n",
              "</table>\n",
              "</div>"
            ],
            "text/plain": [
              "   Unnamed: 0 education  age  ...  spontaneous  stratum  pooled.stratum\n",
              "0           1    0-5yrs   26  ...            2        1               3\n",
              "1           2    0-5yrs   42  ...            0        2               1\n",
              "2           3    0-5yrs   39  ...            0        3               4\n",
              "3           4    0-5yrs   34  ...            0        4               2\n",
              "4           5   6-11yrs   35  ...            1        5              32\n",
              "\n",
              "[5 rows x 9 columns]"
            ]
          },
          "metadata": {
            "tags": []
          },
          "execution_count": 14
        }
      ]
    },
    {
      "cell_type": "code",
      "metadata": {
        "colab": {
          "base_uri": "https://localhost:8080/"
        },
        "id": "xq_i_Wfwhzz_",
        "outputId": "086e8409-7054-4a6b-8492-0452c45b9144"
      },
      "source": [
        "infert['education'].value_counts()"
      ],
      "execution_count": null,
      "outputs": [
        {
          "output_type": "execute_result",
          "data": {
            "text/plain": [
              "6-11yrs    120\n",
              "12+ yrs    116\n",
              "0-5yrs      12\n",
              "Name: education, dtype: int64"
            ]
          },
          "metadata": {
            "tags": []
          },
          "execution_count": 15
        }
      ]
    },
    {
      "cell_type": "code",
      "metadata": {
        "colab": {
          "base_uri": "https://localhost:8080/"
        },
        "id": "b0RTtMaxh6yI",
        "outputId": "4b4e0b89-436c-4c6d-9ae4-92975cf0f08d"
      },
      "source": [
        "# Criando amostra com somente 40% dos registros -> (por isso é definido 0.6, pois é o inverso)\n",
        "x1, _, y1, _ = train_test_split(infert.iloc[:, 2:9], infert.iloc[:, 1],\n",
        "                                test_size = 0.6, stratify = infert.iloc[:, 1])\n",
        "\n",
        "y1.value_counts()"
      ],
      "execution_count": null,
      "outputs": [
        {
          "output_type": "execute_result",
          "data": {
            "text/plain": [
              "6-11yrs    48\n",
              "12+ yrs    46\n",
              "0-5yrs      5\n",
              "Name: education, dtype: int64"
            ]
          },
          "metadata": {
            "tags": []
          },
          "execution_count": 18
        }
      ]
    },
    {
      "cell_type": "markdown",
      "metadata": {
        "id": "8_3Hsp2LsRZz"
      },
      "source": [
        "#<font color=\"brown\">Amostragem Sistemática</font>"
      ]
    },
    {
      "cell_type": "code",
      "metadata": {
        "id": "abDZLSBojZNJ"
      },
      "source": [
        "from math import  ceil"
      ],
      "execution_count": null,
      "outputs": []
    },
    {
      "cell_type": "code",
      "metadata": {
        "colab": {
          "base_uri": "https://localhost:8080/"
        },
        "id": "3G3kIn-usr2J",
        "outputId": "e5fded27-bebb-4bf3-d987-4071c098f6f4"
      },
      "source": [
        "# criando uma variavel para representar a população, a amostra e o valor de k\n",
        "populacao = 150\n",
        "amostra = 15\n",
        "k = ceil(populacao / amostra)\n",
        "print(k)"
      ],
      "execution_count": null,
      "outputs": [
        {
          "output_type": "stream",
          "text": [
            "10\n"
          ],
          "name": "stdout"
        }
      ]
    },
    {
      "cell_type": "code",
      "metadata": {
        "id": "LUqiMPFMtLJK"
      },
      "source": [
        "# Definição do valor randomico para inicializar a amostra, iniciando em 1 ate k + 1\n",
        "r = np.random.randint(low = 1, high= k + 1, size= 1)"
      ],
      "execution_count": null,
      "outputs": []
    },
    {
      "cell_type": "code",
      "metadata": {
        "colab": {
          "base_uri": "https://localhost:8080/"
        },
        "id": "MwsYcGsotiyg",
        "outputId": "2fbd901f-f5ba-44ea-8328-668e4afb893a"
      },
      "source": [
        "# criamos um for para somar os proximos valores, baseado no primeiro valor r que foi definido acima\n",
        "acumulador = r[0]\n",
        "sorteados = []\n",
        "for i in range(amostra):\n",
        "  sorteados.append(acumulador)\n",
        "  acumulador += k\n",
        "print(sorteados)  "
      ],
      "execution_count": null,
      "outputs": [
        {
          "output_type": "stream",
          "text": [
            "[7, 17, 27, 37, 47, 57, 67, 77, 87, 97, 107, 117, 127, 137, 147]\n"
          ],
          "name": "stdout"
        }
      ]
    },
    {
      "cell_type": "code",
      "metadata": {
        "colab": {
          "base_uri": "https://localhost:8080/"
        },
        "id": "GqfNOCfUueQv",
        "outputId": "bced7197-b75e-4e73-f48e-3cced1ff62e5"
      },
      "source": [
        "len(sorteados)"
      ],
      "execution_count": null,
      "outputs": [
        {
          "output_type": "execute_result",
          "data": {
            "text/plain": [
              "15"
            ]
          },
          "metadata": {
            "tags": []
          },
          "execution_count": 25
        }
      ]
    },
    {
      "cell_type": "code",
      "metadata": {
        "colab": {
          "base_uri": "https://localhost:8080/",
          "height": 514
        },
        "id": "kbY9xkyLulKY",
        "outputId": "6d8bf397-5009-4513-bdff-d80fbfd476ff"
      },
      "source": [
        "dados = pd.read_csv(\"dados/iris.csv\")\n",
        "dados_final = dados.loc[sorteados]\n",
        "dados_final"
      ],
      "execution_count": null,
      "outputs": [
        {
          "output_type": "execute_result",
          "data": {
            "text/html": [
              "<div>\n",
              "<style scoped>\n",
              "    .dataframe tbody tr th:only-of-type {\n",
              "        vertical-align: middle;\n",
              "    }\n",
              "\n",
              "    .dataframe tbody tr th {\n",
              "        vertical-align: top;\n",
              "    }\n",
              "\n",
              "    .dataframe thead th {\n",
              "        text-align: right;\n",
              "    }\n",
              "</style>\n",
              "<table border=\"1\" class=\"dataframe\">\n",
              "  <thead>\n",
              "    <tr style=\"text-align: right;\">\n",
              "      <th></th>\n",
              "      <th>sepal length</th>\n",
              "      <th>sepal width</th>\n",
              "      <th>petal length</th>\n",
              "      <th>petal width</th>\n",
              "      <th>class</th>\n",
              "    </tr>\n",
              "  </thead>\n",
              "  <tbody>\n",
              "    <tr>\n",
              "      <th>7</th>\n",
              "      <td>5.0</td>\n",
              "      <td>3.4</td>\n",
              "      <td>1.5</td>\n",
              "      <td>0.2</td>\n",
              "      <td>Iris-setosa</td>\n",
              "    </tr>\n",
              "    <tr>\n",
              "      <th>17</th>\n",
              "      <td>5.1</td>\n",
              "      <td>3.5</td>\n",
              "      <td>1.4</td>\n",
              "      <td>0.3</td>\n",
              "      <td>Iris-setosa</td>\n",
              "    </tr>\n",
              "    <tr>\n",
              "      <th>27</th>\n",
              "      <td>5.2</td>\n",
              "      <td>3.5</td>\n",
              "      <td>1.5</td>\n",
              "      <td>0.2</td>\n",
              "      <td>Iris-setosa</td>\n",
              "    </tr>\n",
              "    <tr>\n",
              "      <th>37</th>\n",
              "      <td>4.9</td>\n",
              "      <td>3.1</td>\n",
              "      <td>1.5</td>\n",
              "      <td>0.1</td>\n",
              "      <td>Iris-setosa</td>\n",
              "    </tr>\n",
              "    <tr>\n",
              "      <th>47</th>\n",
              "      <td>4.6</td>\n",
              "      <td>3.2</td>\n",
              "      <td>1.4</td>\n",
              "      <td>0.2</td>\n",
              "      <td>Iris-setosa</td>\n",
              "    </tr>\n",
              "    <tr>\n",
              "      <th>57</th>\n",
              "      <td>4.9</td>\n",
              "      <td>2.4</td>\n",
              "      <td>3.3</td>\n",
              "      <td>1.0</td>\n",
              "      <td>Iris-versicolor</td>\n",
              "    </tr>\n",
              "    <tr>\n",
              "      <th>67</th>\n",
              "      <td>5.8</td>\n",
              "      <td>2.7</td>\n",
              "      <td>4.1</td>\n",
              "      <td>1.0</td>\n",
              "      <td>Iris-versicolor</td>\n",
              "    </tr>\n",
              "    <tr>\n",
              "      <th>77</th>\n",
              "      <td>6.7</td>\n",
              "      <td>3.0</td>\n",
              "      <td>5.0</td>\n",
              "      <td>1.7</td>\n",
              "      <td>Iris-versicolor</td>\n",
              "    </tr>\n",
              "    <tr>\n",
              "      <th>87</th>\n",
              "      <td>6.3</td>\n",
              "      <td>2.3</td>\n",
              "      <td>4.4</td>\n",
              "      <td>1.3</td>\n",
              "      <td>Iris-versicolor</td>\n",
              "    </tr>\n",
              "    <tr>\n",
              "      <th>97</th>\n",
              "      <td>6.2</td>\n",
              "      <td>2.9</td>\n",
              "      <td>4.3</td>\n",
              "      <td>1.3</td>\n",
              "      <td>Iris-versicolor</td>\n",
              "    </tr>\n",
              "    <tr>\n",
              "      <th>107</th>\n",
              "      <td>7.3</td>\n",
              "      <td>2.9</td>\n",
              "      <td>6.3</td>\n",
              "      <td>1.8</td>\n",
              "      <td>Iris-virginica</td>\n",
              "    </tr>\n",
              "    <tr>\n",
              "      <th>117</th>\n",
              "      <td>7.7</td>\n",
              "      <td>3.8</td>\n",
              "      <td>6.7</td>\n",
              "      <td>2.2</td>\n",
              "      <td>Iris-virginica</td>\n",
              "    </tr>\n",
              "    <tr>\n",
              "      <th>127</th>\n",
              "      <td>6.1</td>\n",
              "      <td>3.0</td>\n",
              "      <td>4.9</td>\n",
              "      <td>1.8</td>\n",
              "      <td>Iris-virginica</td>\n",
              "    </tr>\n",
              "    <tr>\n",
              "      <th>137</th>\n",
              "      <td>6.4</td>\n",
              "      <td>3.1</td>\n",
              "      <td>5.5</td>\n",
              "      <td>1.8</td>\n",
              "      <td>Iris-virginica</td>\n",
              "    </tr>\n",
              "    <tr>\n",
              "      <th>147</th>\n",
              "      <td>6.5</td>\n",
              "      <td>3.0</td>\n",
              "      <td>5.2</td>\n",
              "      <td>2.0</td>\n",
              "      <td>Iris-virginica</td>\n",
              "    </tr>\n",
              "  </tbody>\n",
              "</table>\n",
              "</div>"
            ],
            "text/plain": [
              "     sepal length  sepal width  petal length  petal width            class\n",
              "7             5.0          3.4           1.5          0.2      Iris-setosa\n",
              "17            5.1          3.5           1.4          0.3      Iris-setosa\n",
              "27            5.2          3.5           1.5          0.2      Iris-setosa\n",
              "37            4.9          3.1           1.5          0.1      Iris-setosa\n",
              "47            4.6          3.2           1.4          0.2      Iris-setosa\n",
              "57            4.9          2.4           3.3          1.0  Iris-versicolor\n",
              "67            5.8          2.7           4.1          1.0  Iris-versicolor\n",
              "77            6.7          3.0           5.0          1.7  Iris-versicolor\n",
              "87            6.3          2.3           4.4          1.3  Iris-versicolor\n",
              "97            6.2          2.9           4.3          1.3  Iris-versicolor\n",
              "107           7.3          2.9           6.3          1.8   Iris-virginica\n",
              "117           7.7          3.8           6.7          2.2   Iris-virginica\n",
              "127           6.1          3.0           4.9          1.8   Iris-virginica\n",
              "137           6.4          3.1           5.5          1.8   Iris-virginica\n",
              "147           6.5          3.0           5.2          2.0   Iris-virginica"
            ]
          },
          "metadata": {
            "tags": []
          },
          "execution_count": 27
        }
      ]
    },
    {
      "cell_type": "markdown",
      "metadata": {
        "id": "ckvCo2Vmw7L4"
      },
      "source": [
        "# Medidas de Centralidade e Variabilidade"
      ]
    },
    {
      "cell_type": "code",
      "metadata": {
        "id": "Rkjw58ZWu1FG"
      },
      "source": [
        "from scipy import stats"
      ],
      "execution_count": null,
      "outputs": []
    },
    {
      "cell_type": "code",
      "metadata": {
        "colab": {
          "base_uri": "https://localhost:8080/"
        },
        "id": "tX4iocsdxB6s",
        "outputId": "d23b42c8-02de-47a7-e6b9-42078411b78d"
      },
      "source": [
        "# criação da variavel com os dados dos jogadores, visualização da mediana\n",
        "jogadores = [40000, 18000, 12000, 250000, 30000, 140000, 300000, 40000, 800000]\n",
        "\n",
        "# media\n",
        "print('média', np.mean(jogadores))"
      ],
      "execution_count": null,
      "outputs": [
        {
          "output_type": "execute_result",
          "data": {
            "text/plain": [
              "181111.11111111112"
            ]
          },
          "metadata": {
            "tags": []
          },
          "execution_count": 30
        }
      ]
    },
    {
      "cell_type": "code",
      "metadata": {
        "colab": {
          "base_uri": "https://localhost:8080/"
        },
        "id": "X7979WUkx3Ua",
        "outputId": "707543a8-aade-43cd-e4b2-2b07349ae27e"
      },
      "source": [
        "# mediana\n",
        "jogadores = [40000, 18000, 12000, 250000, 30000, 140000, 300000, 40000, 800000]\n",
        "print('mediana', np.median(jogadores))\n",
        "# criação da variavel para geração dos quartis (0%, 25%, 50%, 75% e 100%)\n",
        "quartis = np.quantile(jogadores, [0, 0.25, 0.5, 0.75, 1])\n",
        "print('quartis ', quartis)"
      ],
      "execution_count": null,
      "outputs": [
        {
          "output_type": "stream",
          "text": [
            "mediana 40000.0\n",
            "quartis  [ 12000.  30000.  40000. 250000. 800000.]\n"
          ],
          "name": "stdout"
        }
      ]
    },
    {
      "cell_type": "code",
      "metadata": {
        "colab": {
          "base_uri": "https://localhost:8080/"
        },
        "id": "0MmeYYcZykn-",
        "outputId": "1fce39d0-27f2-479d-a8b7-aea30ad199d1"
      },
      "source": [
        "# desvio padrao\n",
        "print('desvio padrão', np.std(jogadores))"
      ],
      "execution_count": null,
      "outputs": [
        {
          "output_type": "stream",
          "text": [
            "desvio padrão 240706.5730739143\n"
          ],
          "name": "stdout"
        }
      ]
    },
    {
      "cell_type": "code",
      "metadata": {
        "colab": {
          "base_uri": "https://localhost:8080/"
        },
        "id": "ub47lrA0zlDB",
        "outputId": "5488f2fd-2dba-401a-b951-3499af8af627"
      },
      "source": [
        "# describe\n",
        "print('Estatísticas Descritivas: ', stats.describe(jogadores))"
      ],
      "execution_count": null,
      "outputs": [
        {
          "output_type": "stream",
          "text": [
            "Estatísticas Descritivas:  DescribeResult(nobs=9, minmax=(12000, 800000), mean=181111.11111111112, variance=65182111111.11111, skewness=1.758635899846188, kurtosis=1.9572075427527729)\n"
          ],
          "name": "stdout"
        }
      ]
    },
    {
      "cell_type": "markdown",
      "metadata": {
        "id": "8PkLBtB11LqZ"
      },
      "source": [
        "#<font color=\"yellow\">Distribuição Normal</font>"
      ]
    },
    {
      "cell_type": "code",
      "metadata": {
        "id": "vFsVUIt70AZu"
      },
      "source": [
        "# import da função norm\n",
        "from scipy.stats import norm"
      ],
      "execution_count": null,
      "outputs": []
    },
    {
      "cell_type": "code",
      "metadata": {
        "colab": {
          "base_uri": "https://localhost:8080/"
        },
        "id": "WWyCwPvu1l3G",
        "outputId": "ac2bd4d7-2c6c-4681-be42-d5cc8fc7f85d"
      },
      "source": [
        "# Conjunto de dados em uma cesta, a media é 8 e o desvio padrao é 2.\n",
        "# Qual a probabilidade de tirar um dado que peso que 6 kilos?\n",
        "print('A probabilidade de tirar o dado com peso menor que 6kg é ', norm.cdf(6, 8, 2))"
      ],
      "execution_count": null,
      "outputs": [
        {
          "output_type": "stream",
          "text": [
            "A probabilidade de tirar o dado com peso menor que 6kg é  0.15865525393145707\n"
          ],
          "name": "stdout"
        }
      ]
    },
    {
      "cell_type": "code",
      "metadata": {
        "colab": {
          "base_uri": "https://localhost:8080/"
        },
        "id": "gEI-N6Dp1op0",
        "outputId": "f0e65c62-1068-4f81-e0b8-46a76ceae207"
      },
      "source": [
        "# Qual a probabilidade de tirar um objeto que o peso é maior que 6 kg?\n",
        "print('A probabilidade de tirar o dados com mais de 6kg é ', norm.sf(6, 8, 2))\n",
        "# ou\n",
        "print('ou realizar assim: 1 - norm.cdf(6, 8, 2)', 1 - norm.cdf(6, 8, 2))"
      ],
      "execution_count": null,
      "outputs": [
        {
          "output_type": "stream",
          "text": [
            "A probabilidade de tirar o dados com mais de 6kg é  0.8413447460685429\n",
            "ou realizar assim: 1 - norm.cdf(6, 8, 2) 0.8413447460685429\n"
          ],
          "name": "stdout"
        }
      ]
    },
    {
      "cell_type": "code",
      "metadata": {
        "colab": {
          "base_uri": "https://localhost:8080/"
        },
        "id": "i7DnOmG52yXO",
        "outputId": "c6df2627-9958-4f8b-d69c-88a79376e928"
      },
      "source": [
        "# Qual a probabilidade de tirar um objeto que o peso é menor que 6 ou maior que 10 kg.\n",
        "print('a probabilidade é: ', norm.cdf(6, 8, 2) + norm.sf(10, 8, 2))"
      ],
      "execution_count": null,
      "outputs": [
        {
          "output_type": "stream",
          "text": [
            "a probabilidade é:  0.31731050786291415\n"
          ],
          "name": "stdout"
        }
      ]
    },
    {
      "cell_type": "code",
      "metadata": {
        "colab": {
          "base_uri": "https://localhost:8080/"
        },
        "id": "NOjj2jV34ASe",
        "outputId": "80b7dd5e-1a49-4ec1-8f79-03a59831554f"
      },
      "source": [
        "# Qual a probalidade de tirar um objeto que o peso é menor que 10kg e maior que 8kg?\n",
        "print('A probabilidade é de: ', norm.cdf(10, 8, 2) - norm.cdf(8, 8, 2))"
      ],
      "execution_count": null,
      "outputs": [
        {
          "output_type": "stream",
          "text": [
            "A probabilidade é de:  0.3413447460685429\n"
          ],
          "name": "stdout"
        }
      ]
    },
    {
      "cell_type": "markdown",
      "metadata": {
        "id": "_qk06aY07EoO"
      },
      "source": [
        "#<font color=\"blue\">Testes de Normalidade</font>"
      ]
    },
    {
      "cell_type": "code",
      "metadata": {
        "id": "ydB6VPZn4lRJ"
      },
      "source": [
        "from scipy import stats\n",
        "from scipy.stats import norm, skewnorm\n",
        "import matplotlib.pyplot as plt\n"
      ],
      "execution_count": null,
      "outputs": []
    },
    {
      "cell_type": "code",
      "metadata": {
        "id": "sgHBj2rp7oHL"
      },
      "source": [
        "# Criação de uma variavel com dados em uma distribuição normal com a função rvs (100 elementos)\n",
        "data = norm.rvs(size = 1000)\n",
        "data"
      ],
      "execution_count": null,
      "outputs": []
    },
    {
      "cell_type": "code",
      "metadata": {
        "colab": {
          "base_uri": "https://localhost:8080/",
          "height": 281
        },
        "id": "8rmRSqGE7z26",
        "outputId": "77511a55-7483-47c4-df66-d6eff4d1aab8"
      },
      "source": [
        "# histograma\n",
        "plt.hist(data, bins= 20)\n",
        "plt.title('Dados')\n",
        "plt.show()"
      ],
      "execution_count": null,
      "outputs": [
        {
          "output_type": "display_data",
          "data": {
            "image/png": "[encoded data removed]",
            "text/plain": [
              "<Figure size 432x288 with 1 Axes>"
            ]
          },
          "metadata": {
            "tags": [],
            "needs_background": "light"
          }
        }
      ]
    },
    {
      "cell_type": "code",
      "metadata": {
        "colab": {
          "base_uri": "https://localhost:8080/",
          "height": 295
        },
        "id": "gG67cLer8M16",
        "outputId": "5651fd8d-77c0-4de1-bbed-cd9650141968"
      },
      "source": [
        "# Geração de grafico para verificar se a distribuição é normal\n",
        "fig, ax = plt.subplots()\n",
        "stats.probplot(data, fit=True, plot=ax)\n",
        "plt.show()"
      ],
      "execution_count": null,
      "outputs": [
        {
          "output_type": "display_data",
          "data": {
            "image/png": "[encoded data removed]",
            "text/plain": [
              "<Figure size 432x288 with 1 Axes>"
            ]
          },
          "metadata": {
            "tags": [],
            "needs_background": "light"
          }
        }
      ]
    },
    {
      "cell_type": "code",
      "metadata": {
        "colab": {
          "base_uri": "https://localhost:8080/"
        },
        "id": "Tbr5DiBm86V_",
        "outputId": "19476475-e98f-4258-9fd6-2c857101e4ac"
      },
      "source": [
        "# Execução do teste de shapiro\n",
        "# segundo argumento é o valor de p, não há como rejeitar a hipotese nula\n",
        "stats.shapiro(data)"
      ],
      "execution_count": null,
      "outputs": [
        {
          "output_type": "execute_result",
          "data": {
            "text/plain": [
              "(0.9977028369903564, 0.17928571999073029)"
            ]
          },
          "metadata": {
            "tags": []
          },
          "execution_count": 49
        }
      ]
    },
    {
      "cell_type": "code",
      "metadata": {
        "id": "fiJ4QFae9JeS"
      },
      "source": [
        "# dados não normais\n",
        "dados2 = skewnorm.rvs(4, size=1000)"
      ],
      "execution_count": null,
      "outputs": []
    },
    {
      "cell_type": "code",
      "metadata": {
        "colab": {
          "base_uri": "https://localhost:8080/",
          "height": 281
        },
        "id": "dylLZCle9eO7",
        "outputId": "755da9cc-ce55-4af3-e3fb-ac1ec20c481b"
      },
      "source": [
        "# histograma\n",
        "plt.hist(dados2, bins= 20)\n",
        "plt.title('dados')\n",
        "plt.show()"
      ],
      "execution_count": null,
      "outputs": [
        {
          "output_type": "display_data",
          "data": {
            "image/png": "[encoded data removed]",
            "text/plain": [
              "<Figure size 432x288 with 1 Axes>"
            ]
          },
          "metadata": {
            "tags": [],
            "needs_background": "light"
          }
        }
      ]
    },
    {
      "cell_type": "code",
      "metadata": {
        "colab": {
          "base_uri": "https://localhost:8080/",
          "height": 295
        },
        "id": "cdFeLTa7-ONL",
        "outputId": "4744121c-c557-4336-e327-22ff977b7107"
      },
      "source": [
        "# Geração de gafico para verificar se a distribuição é normal\n",
        "fig, ax = plt.subplots()\n",
        "stats.probplot(dados2, fit=True, plot=ax)\n",
        "plt.show()"
      ],
      "execution_count": null,
      "outputs": [
        {
          "output_type": "display_data",
          "data": {
            "image/png": "[encoded data removed]",
            "text/plain": [
              "<Figure size 432x288 with 1 Axes>"
            ]
          },
          "metadata": {
            "tags": [],
            "needs_background": "light"
          }
        }
      ]
    },
    {
      "cell_type": "code",
      "metadata": {
        "colab": {
          "base_uri": "https://localhost:8080/"
        },
        "id": "Hcub1OOX-jrr",
        "outputId": "69f0cd7f-dbca-44cc-9596-cde84a7e1909"
      },
      "source": [
        "# shapiro test\n",
        "stats.shapiro(dados2)"
      ],
      "execution_count": null,
      "outputs": [
        {
          "output_type": "execute_result",
          "data": {
            "text/plain": [
              "(0.968959629535675, 8.809363557637367e-14)"
            ]
          },
          "metadata": {
            "tags": []
          },
          "execution_count": 55
        }
      ]
    },
    {
      "cell_type": "markdown",
      "metadata": {
        "id": "Bo_TU55dBdHy"
      },
      "source": [
        "#<font color=\"orange\">Intervalo de Confiança para a Média</font>"
      ]
    },
    {
      "cell_type": "markdown",
      "metadata": {
        "id": "IdmCned4GDLl"
      },
      "source": [
        "#Queremos estimar o salario médio de um cientista de dados\n",
        "\n",
        "100 pesquisados (n)\n",
        "\n",
        "intervalo de confiança: 95%\n",
        "\n",
        "a desvio padrao e 1100,00\n",
        "\n",
        "a media do salario é de 5.800,00\n",
        "\n",
        "valor de z* = 1,96\n",
        "\n"
      ]
    },
    {
      "cell_type": "code",
      "metadata": {
        "id": "yHdjTK6C-z-W"
      },
      "source": [
        "import math\n",
        "margem_erro = 1.96*(1100/math.sqrt(100))"
      ],
      "execution_count": null,
      "outputs": []
    },
    {
      "cell_type": "code",
      "metadata": {
        "colab": {
          "base_uri": "https://localhost:8080/"
        },
        "id": "ySrzSYfBHZKT",
        "outputId": "63d4f7f2-aa1e-4984-9908-07d87ed25106"
      },
      "source": [
        "salario = 5800 + margem_erro\n",
        "salario"
      ],
      "execution_count": null,
      "outputs": [
        {
          "output_type": "execute_result",
          "data": {
            "text/plain": [
              "6015.6"
            ]
          },
          "metadata": {
            "tags": []
          },
          "execution_count": 61
        }
      ]
    },
    {
      "cell_type": "code",
      "metadata": {
        "colab": {
          "base_uri": "https://localhost:8080/"
        },
        "id": "7IFudcHAN7l9",
        "outputId": "e58f1222-e349-413a-ba11-a66bfbff6c84"
      },
      "source": [
        "salario = 5800 - margem_erro\n",
        "salario"
      ],
      "execution_count": null,
      "outputs": [
        {
          "output_type": "execute_result",
          "data": {
            "text/plain": [
              "5584.4"
            ]
          },
          "metadata": {
            "tags": []
          },
          "execution_count": 62
        }
      ]
    },
    {
      "cell_type": "markdown",
      "metadata": {
        "id": "GSimcf74OE4l"
      },
      "source": [
        "O salario do cientista de dados varia entre 5584,40 e 6015,60."
      ]
    },
    {
      "cell_type": "code",
      "metadata": {
        "id": "ET5ZoEMqOCW_"
      },
      "source": [
        "z = (23 - 22)/4/math.sqrt(100) * 100 # -> valor z"
      ],
      "execution_count": null,
      "outputs": []
    },
    {
      "cell_type": "code",
      "metadata": {
        "colab": {
          "base_uri": "https://localhost:8080/"
        },
        "id": "L-fuRmjSQkDF",
        "outputId": "170c9cf6-66c4-4ebd-c884-443ad829283e"
      },
      "source": [
        "z"
      ],
      "execution_count": null,
      "outputs": [
        {
          "output_type": "execute_result",
          "data": {
            "text/plain": [
              "2.5"
            ]
          },
          "metadata": {
            "tags": []
          },
          "execution_count": 66
        }
      ]
    },
    {
      "cell_type": "code",
      "metadata": {
        "id": "le0cwVisQlSX"
      },
      "source": [
        "# p-value\n",
        "p = (0.77 - 0.75)/math.sqrt(0.75 * 0.25)/100"
      ],
      "execution_count": null,
      "outputs": []
    },
    {
      "cell_type": "code",
      "metadata": {
        "colab": {
          "base_uri": "https://localhost:8080/"
        },
        "id": "J_DrYnC3R-le",
        "outputId": "2efc885c-edfa-4be8-fdec-7f329e8416d5"
      },
      "source": [
        "p"
      ],
      "execution_count": null,
      "outputs": [
        {
          "output_type": "execute_result",
          "data": {
            "text/plain": [
              "0.00046188021535170106"
            ]
          },
          "metadata": {
            "tags": []
          },
          "execution_count": 68
        }
      ]
    },
    {
      "cell_type": "markdown",
      "metadata": {
        "id": "UzvtiZYeemw5"
      },
      "source": [
        "#<font color=\"red\">Distribuição T de Studant</font>"
      ]
    },
    {
      "cell_type": "markdown",
      "metadata": {
        "id": "ltAVIKqbdXRJ"
      },
      "source": [
        "Uma pesquisa mostra que cientistas de dados ganham R$75,00 por hora. uma amostra de 9 cientistas é selecionada e perguntado o salario. O desvio padrao da amostra é 10. Qual a probabilidade do salario ser menor que #R$80,00 a hora.\n",
        "\n",
        "U0 = 75,00 (media da população)\n",
        "\n",
        "s = 10 (desvio padrao da amostra)\n",
        "\n",
        "n = 9 (tamanho da amostra)\n",
        "\n",
        "t0 = 8 (graus de liberdade)\n"
      ]
    },
    {
      "cell_type": "code",
      "metadata": {
        "id": "LESuj84BR_-G"
      },
      "source": [
        "from scipy.stats import t"
      ],
      "execution_count": null,
      "outputs": []
    },
    {
      "cell_type": "code",
      "metadata": {
        "colab": {
          "base_uri": "https://localhost:8080/"
        },
        "id": "X1zG8kD4e5fg",
        "outputId": "53cfaf0c-6308-4399-8e40-88ea4dacb091"
      },
      "source": [
        "# Qual a probabilidade de selecionar um cientista e o salario ser menor que R$80,00 por hora\n",
        "sal_menor_80 = t.cdf(1.5, 8)\n",
        "sal_menor_80"
      ],
      "execution_count": null,
      "outputs": [
        {
          "output_type": "execute_result",
          "data": {
            "text/plain": [
              "0.9139983540240443"
            ]
          },
          "metadata": {
            "tags": []
          },
          "execution_count": 2
        }
      ]
    },
    {
      "cell_type": "code",
      "metadata": {
        "colab": {
          "base_uri": "https://localhost:8080/"
        },
        "id": "MBSBGDJue6Rr",
        "outputId": "9314446e-04fd-457e-8917-8eddb56297cf"
      },
      "source": [
        "#Qual a probabilidade de selecionar um cientista e o salario maior que 80,00?\n",
        "sal_maior_80 = t.sf(1.5, 8)\n",
        "sal_maior_80"
      ],
      "execution_count": null,
      "outputs": [
        {
          "output_type": "execute_result",
          "data": {
            "text/plain": [
              "0.08600164597595565"
            ]
          },
          "metadata": {
            "tags": []
          },
          "execution_count": 3
        }
      ]
    },
    {
      "cell_type": "code",
      "metadata": {
        "colab": {
          "base_uri": "https://localhost:8080/"
        },
        "id": "8ILguXMwfNJw",
        "outputId": "2bf08ace-1c7f-46cd-eb3c-7c60be739297"
      },
      "source": [
        "# somatorio da execução dos dois codigos acima (lado esquerdo + lado direito da distribuição)\n",
        "somatorio = t.cdf(1.5, 8) + t.sf(1.5, 8)\n",
        "somatorio"
      ],
      "execution_count": null,
      "outputs": [
        {
          "output_type": "execute_result",
          "data": {
            "text/plain": [
              "0.9999999999999999"
            ]
          },
          "metadata": {
            "tags": []
          },
          "execution_count": 4
        }
      ]
    },
    {
      "cell_type": "markdown",
      "metadata": {
        "id": "eeofbZs6gdUt"
      },
      "source": [
        "#<font color=\"blue\">Distribuição Bonimial</font>\n",
        "\n",
        "Distribuição de Probabilidade Discreta"
      ]
    },
    {
      "cell_type": "code",
      "metadata": {
        "id": "JN7iFuzKrR73"
      },
      "source": [
        "from scipy.stats import binom"
      ],
      "execution_count": null,
      "outputs": []
    },
    {
      "cell_type": "code",
      "metadata": {
        "colab": {
          "base_uri": "https://localhost:8080/"
        },
        "id": "72zBva6VjCjP",
        "outputId": "1deb1185-b89d-43cb-ff02-ddf8a2abbc71"
      },
      "source": [
        "# jogar uma moeda 5 vezes. Qual a probabilidade de dar cara 3 vezes?\n",
        "# eventos - experimentos - probabilidades\n",
        "prob = binom.pmf(3, 5, 0.5)\n",
        "prob"
      ],
      "execution_count": null,
      "outputs": [
        {
          "output_type": "execute_result",
          "data": {
            "text/plain": [
              "0.3125"
            ]
          },
          "metadata": {
            "tags": []
          },
          "execution_count": 7
        }
      ]
    },
    {
      "cell_type": "code",
      "metadata": {
        "colab": {
          "base_uri": "https://localhost:8080/"
        },
        "id": "8KpQVJJPjhSu",
        "outputId": "d8bf9eb0-b3dd-4627-c479-fca25303415c"
      },
      "source": [
        "# passar 4 sinais de 4 tempos, qual a probabilidade de pegar sinal verde\n",
        "# 0, 1, 2, 3 ou 4 vezes seguidas?\n",
        "sinal0 = binom.pmf(0, 4, 0.25)\n",
        "sinal1 = binom.pmf(1, 4, 0.25)\n",
        "sinal2 = binom.pmf(2, 4, 0.25)\n",
        "sinal3 = binom.pmf(3, 4, 0.25)\n",
        "sinal4 = binom.pmf(4, 4, 0.25)\n",
        "print('sinal 0 ', sinal0, 'sinal 1', sinal1, ' sinal 2', sinal2, ' sinal 3', sinal3, ' sinal 4', sinal4)\n",
        "print('probabilidade cumulativa: ', sinal0 + sinal1 + sinal2 + sinal3 + sinal4)\n"
      ],
      "execution_count": null,
      "outputs": [
        {
          "output_type": "stream",
          "text": [
            "sinal 0  0.31640625000000006 sinal 1 0.4218750000000001  sinal 2 0.21093750000000006  sinal 3 0.046875000000000035  sinal 4 0.003906250000000001\n",
            "probabilidade cumulativa:  1.0000000000000002\n"
          ],
          "name": "stdout"
        }
      ]
    },
    {
      "cell_type": "code",
      "metadata": {
        "colab": {
          "base_uri": "https://localhost:8080/"
        },
        "id": "2G9L9H7HmVb4",
        "outputId": "9a2d5b9b-4a6b-4c5b-aecc-f2e4325f0bf4"
      },
      "source": [
        "# e se for de 2 tempos?\n",
        "dois_tempos = binom.pmf(4, 4, 0.5)\n",
        "print(dois_tempos)\n",
        "# probabilidade cumulativa para 4 semaforos\n",
        "cumulative_prob = binom.cdf(4, 4, 0.25)\n",
        "print(cumulative_prob)"
      ],
      "execution_count": null,
      "outputs": [
        {
          "output_type": "stream",
          "text": [
            "0.0625\n",
            "1.0\n"
          ],
          "name": "stdout"
        }
      ]
    },
    {
      "cell_type": "code",
      "metadata": {
        "colab": {
          "base_uri": "https://localhost:8080/"
        },
        "id": "K1DtIVRdnDEy",
        "outputId": "45406563-f6c0-482f-b042-65ad42d720a0"
      },
      "source": [
        "# Concurso com 12 questoes, qual a probabilidade de acertar 7 questoes chutando tudo, considerando cada questao com 4 alternativa?\n",
        "concurso = binom.pmf(7, 12, 0.25) * 100\n",
        "concurso"
      ],
      "execution_count": null,
      "outputs": [
        {
          "output_type": "execute_result",
          "data": {
            "text/plain": [
              "1.1471271514892574"
            ]
          },
          "metadata": {
            "tags": []
          },
          "execution_count": 12
        }
      ]
    },
    {
      "cell_type": "code",
      "metadata": {
        "colab": {
          "base_uri": "https://localhost:8080/"
        },
        "id": "oxQ2JRNunXV5",
        "outputId": "ce2c3773-636c-492c-8a63-8ca45c7aaa6e"
      },
      "source": [
        "# Qual a probabilidade de acertar as 12 questões?\n",
        "total_questoes = binom.pmf(12, 12, 0.25) * 100\n",
        "total_questoes"
      ],
      "execution_count": null,
      "outputs": [
        {
          "output_type": "execute_result",
          "data": {
            "text/plain": [
              "5.960464477539072e-06"
            ]
          },
          "metadata": {
            "tags": []
          },
          "execution_count": 13
        }
      ]
    },
    {
      "cell_type": "markdown",
      "metadata": {
        "id": "lYtH5QOzmXYF"
      },
      "source": [
        "#<font color=\"green\">Distribuição de Poison</font>\n",
        "\n",
        "=> Mede a probabilidade de eventos em intervalos de tempo, em vez de um certo numero de experimentos\n",
        "\n",
        "=> Os eventos a cada intervalo devem ser independentes."
      ]
    },
    {
      "cell_type": "code",
      "metadata": {
        "id": "tK4W78BirRA3"
      },
      "source": [
        "from scipy.stats import poisson"
      ],
      "execution_count": null,
      "outputs": []
    },
    {
      "cell_type": "markdown",
      "metadata": {
        "id": "YX6lksfAqJx7"
      },
      "source": [
        "Em um local ocorrem em media dois acidentes por dia."
      ]
    },
    {
      "cell_type": "code",
      "metadata": {
        "colab": {
          "base_uri": "https://localhost:8080/"
        },
        "id": "9CkxKeQUqH3m",
        "outputId": "425c681b-d78c-4466-e4f0-71171a5ac8a3"
      },
      "source": [
        "# qual a probabilidade de ocorrerem 3 acidentes no dia?\n",
        "tres_acidentes = poisson.pmf(3, 2)\n",
        "print('A probabilidade de ocorrer 3 acidente em um dia é de: ', tres_acidentes)"
      ],
      "execution_count": null,
      "outputs": [
        {
          "output_type": "stream",
          "text": [
            "A probabilidade de ocorrer 3 acidente em um dia é de:  0.18044704431548356\n"
          ],
          "name": "stdout"
        }
      ]
    },
    {
      "cell_type": "code",
      "metadata": {
        "colab": {
          "base_uri": "https://localhost:8080/"
        },
        "id": "dfzIm0n5qqng",
        "outputId": "886436e3-8803-4543-a3ee-5b5c5e09fa6e"
      },
      "source": [
        "# qual a probabilidade de ocorrerem 3 ou menos acidentes em um dia?\n",
        "tres_ou_menos_acidentes = poisson.cdf(3, 2)\n",
        "print('A probabilidade de ocorrerem 3 ou menos acidentes em um dia é de ', tres_ou_menos_acidentes)"
      ],
      "execution_count": null,
      "outputs": [
        {
          "output_type": "stream",
          "text": [
            "A probabilidade de ocorrerem 3 ou menos acidentes em um dia é de  0.857123460498547\n"
          ],
          "name": "stdout"
        }
      ]
    },
    {
      "cell_type": "code",
      "metadata": {
        "colab": {
          "base_uri": "https://localhost:8080/"
        },
        "id": "1iYD_m6VrE2w",
        "outputId": "be49d795-8e4a-419e-bf85-8bbeef04a88d"
      },
      "source": [
        "# qual a probabilidade de ocorrerem mais de 3 acidentes em um dia?\n",
        "mais_de_tres_acidentes = poisson.sf(3, 2)\n",
        "print('A probabilidade de ocorrer mais de 3 acidentes em um dia é de ', mais_de_tres_acidentes)"
      ],
      "execution_count": null,
      "outputs": [
        {
          "output_type": "stream",
          "text": [
            "A probabilidade de ocorrer mais de 3 acidentes em um dia é de  0.14287653950145296\n"
          ],
          "name": "stdout"
        }
      ]
    },
    {
      "cell_type": "markdown",
      "metadata": {
        "id": "Gn5PaH4ZpKSj"
      },
      "source": [
        "#<font color=\"orange\">Qui-Quadrado</font>\n",
        "\n",
        "=> H0 -> Não existe diferença significativa além do acaso"
      ]
    },
    {
      "cell_type": "code",
      "metadata": {
        "id": "J5L4EpaCgv4b"
      },
      "source": [
        "import numpy as np\n",
        "from scipy.stats import chi2_contingency"
      ],
      "execution_count": null,
      "outputs": []
    },
    {
      "cell_type": "code",
      "metadata": {
        "colab": {
          "base_uri": "https://localhost:8080/"
        },
        "id": "n-fkIKeus93S",
        "outputId": "ef4cb360-99ca-4a1c-c087-678eeb0abd26"
      },
      "source": [
        "# criação da matriz com os dados e exucução do teste\n",
        "novela = np.array([[19, 6], [43, 32]])\n",
        "novela"
      ],
      "execution_count": null,
      "outputs": [
        {
          "output_type": "execute_result",
          "data": {
            "text/plain": [
              "array([[19,  6],\n",
              "       [43, 32]])"
            ]
          },
          "metadata": {
            "tags": []
          },
          "execution_count": 20
        }
      ]
    },
    {
      "cell_type": "code",
      "metadata": {
        "colab": {
          "base_uri": "https://localhost:8080/"
        },
        "id": "qBFsRlQitOPM",
        "outputId": "3f6bad48-20ad-4a1f-a539-419c9c955a30"
      },
      "source": [
        "# executando o teste de qui-quadrado\n",
        "# o valor de p é maior que 0.05, não há evidencias de diferença significativa (hipotese nula) -> p-value = 0.1534...\n",
        "novela_teste = chi2_contingency(novela)\n",
        "print(novela_teste)"
      ],
      "execution_count": null,
      "outputs": [
        {
          "output_type": "stream",
          "text": [
            "(2.037351443123939, 0.15347667161786666, 1, array([[15.5,  9.5],\n",
            "       [46.5, 28.5]]))\n"
          ],
          "name": "stdout"
        }
      ]
    },
    {
      "cell_type": "code",
      "metadata": {
        "colab": {
          "base_uri": "https://localhost:8080/"
        },
        "id": "5DfB7SzZtvh_",
        "outputId": "e9fa6ff6-ba0b-4539-959b-80321776e29f"
      },
      "source": [
        "novela2 = np.array([[22, 3], [43, 32]])\n",
        "novela2"
      ],
      "execution_count": null,
      "outputs": [
        {
          "output_type": "execute_result",
          "data": {
            "text/plain": [
              "array([[22,  3],\n",
              "       [43, 32]])"
            ]
          },
          "metadata": {
            "tags": []
          },
          "execution_count": 22
        }
      ]
    },
    {
      "cell_type": "code",
      "metadata": {
        "colab": {
          "base_uri": "https://localhost:8080/"
        },
        "id": "btIC5TQMuPBy",
        "outputId": "9c7a8754-a32d-4a37-b192-876d2e26aa33"
      },
      "source": [
        "# Agora o valor de p é menor que 0.05, podemos rejeitar a hipotese nula em favor da hipotese alternativa: -> p-value =0.0110...\n",
        "test_novela = chi2_contingency(novela2)\n",
        "print(test_novela)"
      ],
      "execution_count": null,
      "outputs": [
        {
          "output_type": "stream",
          "text": [
            "(6.461538461538461, 0.011023416388221425, 1, array([[16.25,  8.75],\n",
            "       [48.75, 26.25]]))\n"
          ],
          "name": "stdout"
        }
      ]
    },
    {
      "cell_type": "markdown",
      "metadata": {
        "id": "S2-1zHkLwWWA"
      },
      "source": [
        "#<font color=\"blue\">ANOVA - Análise de Variância</font>"
      ]
    },
    {
      "cell_type": "code",
      "metadata": {
        "id": "wUggOkIFujGY"
      },
      "source": [
        "import pandas as pd\n",
        "from scipy import stats\n",
        "import statsmodels.api as sm\n",
        "from statsmodels.formula.api import ols\n",
        "from statsmodels.stats.multicomp import MultiComparison"
      ],
      "execution_count": null,
      "outputs": []
    },
    {
      "cell_type": "code",
      "metadata": {
        "colab": {
          "base_uri": "https://localhost:8080/",
          "height": 204
        },
        "id": "ciQUSpPBxJb_",
        "outputId": "6176729a-3773-4537-c03d-fa198de98855"
      },
      "source": [
        "# carregando a base de dados\n",
        "tratamento = pd.read_csv(\"dados/anova.csv\", sep= \";\")\n",
        "tratamento.head()"
      ],
      "execution_count": null,
      "outputs": [
        {
          "output_type": "execute_result",
          "data": {
            "text/html": [
              "<div>\n",
              "<style scoped>\n",
              "    .dataframe tbody tr th:only-of-type {\n",
              "        vertical-align: middle;\n",
              "    }\n",
              "\n",
              "    .dataframe tbody tr th {\n",
              "        vertical-align: top;\n",
              "    }\n",
              "\n",
              "    .dataframe thead th {\n",
              "        text-align: right;\n",
              "    }\n",
              "</style>\n",
              "<table border=\"1\" class=\"dataframe\">\n",
              "  <thead>\n",
              "    <tr style=\"text-align: right;\">\n",
              "      <th></th>\n",
              "      <th>Sexo</th>\n",
              "      <th>Remedio</th>\n",
              "      <th>Horas</th>\n",
              "    </tr>\n",
              "  </thead>\n",
              "  <tbody>\n",
              "    <tr>\n",
              "      <th>0</th>\n",
              "      <td>F</td>\n",
              "      <td>A</td>\n",
              "      <td>5</td>\n",
              "    </tr>\n",
              "    <tr>\n",
              "      <th>1</th>\n",
              "      <td>F</td>\n",
              "      <td>A</td>\n",
              "      <td>10</td>\n",
              "    </tr>\n",
              "    <tr>\n",
              "      <th>2</th>\n",
              "      <td>F</td>\n",
              "      <td>A</td>\n",
              "      <td>7</td>\n",
              "    </tr>\n",
              "    <tr>\n",
              "      <th>3</th>\n",
              "      <td>F</td>\n",
              "      <td>A</td>\n",
              "      <td>7</td>\n",
              "    </tr>\n",
              "    <tr>\n",
              "      <th>4</th>\n",
              "      <td>M</td>\n",
              "      <td>A</td>\n",
              "      <td>7</td>\n",
              "    </tr>\n",
              "  </tbody>\n",
              "</table>\n",
              "</div>"
            ],
            "text/plain": [
              "  Sexo Remedio  Horas\n",
              "0    F       A      5\n",
              "1    F       A     10\n",
              "2    F       A      7\n",
              "3    F       A      7\n",
              "4    M       A      7"
            ]
          },
          "metadata": {
            "tags": []
          },
          "execution_count": 25
        }
      ]
    },
    {
      "cell_type": "code",
      "metadata": {
        "colab": {
          "base_uri": "https://localhost:8080/",
          "height": 318
        },
        "id": "f04BDro6xgMn",
        "outputId": "76d7730a-3884-4d0c-88de-ad9a14d65647"
      },
      "source": [
        "# boxplot agrupando os dados pelo remedio\n",
        "tratamento.boxplot(by= 'Remedio', grid= False)"
      ],
      "execution_count": null,
      "outputs": [
        {
          "output_type": "execute_result",
          "data": {
            "text/plain": [
              "<matplotlib.axes._subplots.AxesSubplot at 0x7f2114a91c50>"
            ]
          },
          "metadata": {
            "tags": []
          },
          "execution_count": 26
        },
        {
          "output_type": "display_data",
          "data": {
            "image/png": "[encoded data removed]",
            "text/plain": [
              "<Figure size 432x288 with 1 Axes>"
            ]
          },
          "metadata": {
            "tags": [],
            "needs_background": "light"
          }
        }
      ]
    },
    {
      "cell_type": "code",
      "metadata": {
        "colab": {
          "base_uri": "https://localhost:8080/",
          "height": 111
        },
        "id": "o55Dsngnx5U1",
        "outputId": "cde241db-2369-47eb-bfd1-ebc69f39f7fd"
      },
      "source": [
        "# criação do modelo de regressão linear e execução do teste\n",
        "modelo1 = ols('Horas ~ Remedio', data= tratamento).fit()\n",
        "resultado1 = sm.stats.anova_lm(modelo1)\n",
        "#observar o valor p é maior que 0.05 (pr(>f)) -> Hipotese nula não há diferença significativa\n",
        "resultado1"
      ],
      "execution_count": null,
      "outputs": [
        {
          "output_type": "execute_result",
          "data": {
            "text/html": [
              "<div>\n",
              "<style scoped>\n",
              "    .dataframe tbody tr th:only-of-type {\n",
              "        vertical-align: middle;\n",
              "    }\n",
              "\n",
              "    .dataframe tbody tr th {\n",
              "        vertical-align: top;\n",
              "    }\n",
              "\n",
              "    .dataframe thead th {\n",
              "        text-align: right;\n",
              "    }\n",
              "</style>\n",
              "<table border=\"1\" class=\"dataframe\">\n",
              "  <thead>\n",
              "    <tr style=\"text-align: right;\">\n",
              "      <th></th>\n",
              "      <th>df</th>\n",
              "      <th>sum_sq</th>\n",
              "      <th>mean_sq</th>\n",
              "      <th>F</th>\n",
              "      <th>PR(&gt;F)</th>\n",
              "    </tr>\n",
              "  </thead>\n",
              "  <tbody>\n",
              "    <tr>\n",
              "      <th>Remedio</th>\n",
              "      <td>2.0</td>\n",
              "      <td>4.083333</td>\n",
              "      <td>2.041667</td>\n",
              "      <td>0.537618</td>\n",
              "      <td>0.591966</td>\n",
              "    </tr>\n",
              "    <tr>\n",
              "      <th>Residual</th>\n",
              "      <td>21.0</td>\n",
              "      <td>79.750000</td>\n",
              "      <td>3.797619</td>\n",
              "      <td>NaN</td>\n",
              "      <td>NaN</td>\n",
              "    </tr>\n",
              "  </tbody>\n",
              "</table>\n",
              "</div>"
            ],
            "text/plain": [
              "            df     sum_sq   mean_sq         F    PR(>F)\n",
              "Remedio    2.0   4.083333  2.041667  0.537618  0.591966\n",
              "Residual  21.0  79.750000  3.797619       NaN       NaN"
            ]
          },
          "metadata": {
            "tags": []
          },
          "execution_count": 29
        }
      ]
    },
    {
      "cell_type": "code",
      "metadata": {
        "colab": {
          "base_uri": "https://localhost:8080/",
          "height": 173
        },
        "id": "bxDxhajDy7Wj",
        "outputId": "a7b428c0-1e11-4e96-cebe-f50d0f2e86ca"
      },
      "source": [
        "# criação do segundo modelo utilizando mais atributos e execução do teste\n",
        "modelo2 = ols('Horas ~ Remedio * Sexo', data= tratamento).fit()\n",
        "resultado2 = sm.stats.anova_lm(modelo2)\n",
        "# nenhum valor de p mostra diferença significa\n",
        "resultado2\n"
      ],
      "execution_count": null,
      "outputs": [
        {
          "output_type": "execute_result",
          "data": {
            "text/html": [
              "<div>\n",
              "<style scoped>\n",
              "    .dataframe tbody tr th:only-of-type {\n",
              "        vertical-align: middle;\n",
              "    }\n",
              "\n",
              "    .dataframe tbody tr th {\n",
              "        vertical-align: top;\n",
              "    }\n",
              "\n",
              "    .dataframe thead th {\n",
              "        text-align: right;\n",
              "    }\n",
              "</style>\n",
              "<table border=\"1\" class=\"dataframe\">\n",
              "  <thead>\n",
              "    <tr style=\"text-align: right;\">\n",
              "      <th></th>\n",
              "      <th>df</th>\n",
              "      <th>sum_sq</th>\n",
              "      <th>mean_sq</th>\n",
              "      <th>F</th>\n",
              "      <th>PR(&gt;F)</th>\n",
              "    </tr>\n",
              "  </thead>\n",
              "  <tbody>\n",
              "    <tr>\n",
              "      <th>Remedio</th>\n",
              "      <td>2.0</td>\n",
              "      <td>4.083333</td>\n",
              "      <td>2.041667</td>\n",
              "      <td>0.532609</td>\n",
              "      <td>0.596042</td>\n",
              "    </tr>\n",
              "    <tr>\n",
              "      <th>Sexo</th>\n",
              "      <td>1.0</td>\n",
              "      <td>4.166667</td>\n",
              "      <td>4.166667</td>\n",
              "      <td>1.086957</td>\n",
              "      <td>0.310948</td>\n",
              "    </tr>\n",
              "    <tr>\n",
              "      <th>Remedio:Sexo</th>\n",
              "      <td>2.0</td>\n",
              "      <td>6.583333</td>\n",
              "      <td>3.291667</td>\n",
              "      <td>0.858696</td>\n",
              "      <td>0.440360</td>\n",
              "    </tr>\n",
              "    <tr>\n",
              "      <th>Residual</th>\n",
              "      <td>18.0</td>\n",
              "      <td>69.000000</td>\n",
              "      <td>3.833333</td>\n",
              "      <td>NaN</td>\n",
              "      <td>NaN</td>\n",
              "    </tr>\n",
              "  </tbody>\n",
              "</table>\n",
              "</div>"
            ],
            "text/plain": [
              "                df     sum_sq   mean_sq         F    PR(>F)\n",
              "Remedio        2.0   4.083333  2.041667  0.532609  0.596042\n",
              "Sexo           1.0   4.166667  4.166667  1.086957  0.310948\n",
              "Remedio:Sexo   2.0   6.583333  3.291667  0.858696  0.440360\n",
              "Residual      18.0  69.000000  3.833333       NaN       NaN"
            ]
          },
          "metadata": {
            "tags": []
          },
          "execution_count": 32
        }
      ]
    },
    {
      "cell_type": "markdown",
      "metadata": {
        "id": "q4pvfua0ztIk"
      },
      "source": [
        "# Teste de Tukey"
      ]
    },
    {
      "cell_type": "code",
      "metadata": {
        "colab": {
          "base_uri": "https://localhost:8080/",
          "height": 899
        },
        "id": "x2VQwXuBzlL8",
        "outputId": "1747952b-78a8-49f0-e7e3-c04d79f626a0"
      },
      "source": [
        "# se houver diferença o teste de tukey é executado.\n",
        "mc = MultiComparison(tratamento['Horas'], tratamento['Remedio'])\n",
        "resultado_tukey = mc.tukeyhsd()\n",
        "print(resultado_tukey)\n",
        "resultado_tukey.plot_simultaneous()"
      ],
      "execution_count": null,
      "outputs": [
        {
          "output_type": "stream",
          "text": [
            "Multiple Comparison of Means - Tukey HSD, FWER=0.05\n",
            "===================================================\n",
            "group1 group2 meandiff p-adj   lower  upper  reject\n",
            "---------------------------------------------------\n",
            "     A      B   -0.625 0.7861 -3.0803 1.8303  False\n",
            "     A      C    0.375    0.9 -2.0803 2.8303  False\n",
            "     B      C      1.0 0.5668 -1.4553 3.4553  False\n",
            "---------------------------------------------------\n"
          ],
          "name": "stdout"
        },
        {
          "output_type": "execute_result",
          "data": {
            "image/png": "[encoded data removed]",
            "text/plain": [
              "<Figure size 720x432 with 1 Axes>"
            ]
          },
          "metadata": {
            "tags": []
          },
          "execution_count": 36
        },
        {
          "output_type": "display_data",
          "data": {
            "image/png": "[encoded data removed]",
            "text/plain": [
              "<Figure size 720x432 with 1 Axes>"
            ]
          },
          "metadata": {
            "tags": [],
            "needs_background": "light"
          }
        }
      ]
    },
    {
      "cell_type": "code",
      "metadata": {
        "id": "BL9Fip_L0c7x"
      },
      "source": [
        ""
      ],
      "execution_count": null,
      "outputs": []
    }
  ]
}