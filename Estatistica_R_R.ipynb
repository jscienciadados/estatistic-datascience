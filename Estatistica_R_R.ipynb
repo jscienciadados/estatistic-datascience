{
  "nbformat": 4,
  "nbformat_minor": 0,
  "metadata": {
    "colab": {
      "name": "Estatistica_R.R",
      "provenance": [],
      "collapsed_sections": [],
      "include_colab_link": true
    },
    "kernelspec": {
      "name": "ir",
      "display_name": "R"
    },
    "language_info": {
      "name": "R"
    }
  },
  "cells": [
    {
      "cell_type": "markdown",
      "metadata": {
        "id": "view-in-github",
        "colab_type": "text"
      },
      "source": [
        "<a href=\"https://colab.research.google.com/github/jscienciadados/estatistic-datascience/blob/main/Estatistica_R_R.ipynb\" target=\"_parent\"><img src=\"https://colab.research.google.com/assets/colab-badge.svg\" alt=\"Open In Colab\"/></a>"
      ]
    },
    {
      "cell_type": "markdown",
      "metadata": {
        "id": "lJYImBI9wEFj"
      },
      "source": [
        "#Estudo de Estatística"
      ]
    },
    {
      "cell_type": "markdown",
      "metadata": {
        "id": "vx_4bwA63TPt"
      },
      "source": [
        "#<font color=\"red\">Distribuição T de Studant</font>"
      ]
    },
    {
      "cell_type": "markdown",
      "metadata": {
        "id": "_-MdU5ta3gcL"
      },
      "source": [
        "Salario de um cientista de dados é em media 75 por hora.\n",
        "\n",
        "amostra = 9\n",
        "\n",
        "s = 10\n",
        "\n",
        "t = 1.5\n",
        "\n",
        "Qual a probabilidade de o salario ser menor que 80 por hora?"
      ]
    },
    {
      "cell_type": "code",
      "metadata": {
        "colab": {
          "base_uri": "https://localhost:8080/",
          "height": 34
        },
        "id": "d_IkE2Yaukwm",
        "outputId": "daa66191-0dcd-4c37-8f78-d2ed67f15423"
      },
      "source": [
        "probabilidade_menor <- pt(1.5, 8)\n",
        "probabilidade_menor"
      ],
      "execution_count": null,
      "outputs": [
        {
          "output_type": "display_data",
          "data": {
            "text/plain": [
              "[1] 0.9139984"
            ],
            "text/latex": "0.913998354024044",
            "text/markdown": "0.913998354024044",
            "text/html": [
              "0.913998354024044"
            ]
          },
          "metadata": {
            "tags": []
          }
        }
      ]
    },
    {
      "cell_type": "code",
      "metadata": {
        "colab": {
          "base_uri": "https://localhost:8080/",
          "height": 34
        },
        "id": "gOZuYveIu4Xn",
        "outputId": "4386986e-062e-4215-9593-d53788927e74"
      },
      "source": [
        "# qual a probabilidade de o salario ser maior que 80 por hora?\n",
        "probabilidade_maior <- pt(1.5, 8, lower.tail = F)\n",
        "probabilidade_maior"
      ],
      "execution_count": null,
      "outputs": [
        {
          "output_type": "display_data",
          "data": {
            "text/plain": [
              "[1] 0.08600165"
            ],
            "text/latex": "0.0860016459759557",
            "text/markdown": "0.0860016459759557",
            "text/html": [
              "0.0860016459759557"
            ]
          },
          "metadata": {
            "tags": []
          }
        }
      ]
    },
    {
      "cell_type": "code",
      "metadata": {
        "colab": {
          "base_uri": "https://localhost:8080/",
          "height": 34
        },
        "id": "JCO9Nohy4sSS",
        "outputId": "9705e0c3-4915-4c01-9fc7-170199458b5c"
      },
      "source": [
        "# ou\n",
        "1 - probabilidade_menor"
      ],
      "execution_count": null,
      "outputs": [
        {
          "output_type": "display_data",
          "data": {
            "text/plain": [
              "[1] 0.08600165"
            ],
            "text/latex": "0.0860016459759556",
            "text/markdown": "0.0860016459759556",
            "text/html": [
              "0.0860016459759556"
            ]
          },
          "metadata": {
            "tags": []
          }
        }
      ]
    },
    {
      "cell_type": "code",
      "metadata": {
        "colab": {
          "base_uri": "https://localhost:8080/",
          "height": 34
        },
        "id": "IUYjEtvi4xHg",
        "outputId": "eee5e422-8f9d-40a5-f2cc-dceeaf5d270e"
      },
      "source": [
        "# somando as duas caudas -> probabilidade cumulativa\n",
        "pt(1.5, 8) + pt(1.5, 8, lower.tail = F)"
      ],
      "execution_count": null,
      "outputs": [
        {
          "output_type": "display_data",
          "data": {
            "text/plain": [
              "[1] 1"
            ],
            "text/latex": "1",
            "text/markdown": "1",
            "text/html": [
              "1"
            ]
          },
          "metadata": {
            "tags": []
          }
        }
      ]
    },
    {
      "cell_type": "markdown",
      "metadata": {
        "id": "JwwWqwcl6BP4"
      },
      "source": [
        "# Distribuição Binomial"
      ]
    },
    {
      "cell_type": "markdown",
      "metadata": {
        "id": "2Vq5-f8W6LHi"
      },
      "source": [
        "Se jogar uma moeda 5 vezes, qual a probabilidade de dar cara 3 vezes?\n",
        "\n",
        "x = eventos\n",
        "\n",
        "p = probabilidades de sucesso\n",
        "\n",
        "size = numero de eventos\n",
        "\n"
      ]
    },
    {
      "cell_type": "code",
      "metadata": {
        "colab": {
          "base_uri": "https://localhost:8080/",
          "height": 34
        },
        "id": "-xBmsGsX5B4q",
        "outputId": "826fe7cc-a1e0-4f80-b558-b14670a44c86"
      },
      "source": [
        "moeda <- dbinom(x =3, size = 5, prob = 0.5)\n",
        "moeda "
      ],
      "execution_count": null,
      "outputs": [
        {
          "output_type": "display_data",
          "data": {
            "text/plain": [
              "[1] 0.3125"
            ],
            "text/latex": "0.3125",
            "text/markdown": "0.3125",
            "text/html": [
              "0.3125"
            ]
          },
          "metadata": {
            "tags": []
          }
        }
      ]
    },
    {
      "cell_type": "markdown",
      "metadata": {
        "id": "GINfo7-z7JHI"
      },
      "source": [
        "se eu passar 4 sinais de 4 tempos cada. Qual a probabilidade de eu pegar 0,1,2,3 e 4 sinais abertos?"
      ]
    },
    {
      "cell_type": "code",
      "metadata": {
        "colab": {
          "base_uri": "https://localhost:8080/",
          "height": 34
        },
        "id": "vF0zx_CN7KW5",
        "outputId": "d5d1e532-6d8a-4aee-bc17-69f945127514"
      },
      "source": [
        "# sinal = 4 verdes -> probabilidade cumulativa\n",
        "sinal_Verde4 <- pbinom(q = 4, size = 4, prob = 0,25)\n",
        "sinal_Verde4"
      ],
      "execution_count": null,
      "outputs": [
        {
          "output_type": "display_data",
          "data": {
            "text/plain": [
              "[1] 1"
            ],
            "text/latex": "1",
            "text/markdown": "1",
            "text/html": [
              "1"
            ]
          },
          "metadata": {
            "tags": []
          }
        }
      ]
    },
    {
      "cell_type": "code",
      "metadata": {
        "colab": {
          "base_uri": "https://localhost:8080/",
          "height": 34
        },
        "id": "5z3vjmSl_a6q",
        "outputId": "bcb01688-cdc3-4a3d-b7f7-8fc925a4c786"
      },
      "source": [
        "# pegar 3 sinais verdes\n",
        "sinal_Verde3 <- pbinom(q = 3, size = 4, prob = 0,25)\n",
        "sinal_Verde3"
      ],
      "execution_count": null,
      "outputs": [
        {
          "output_type": "display_data",
          "data": {
            "text/plain": [
              "[1] 1"
            ],
            "text/latex": "1",
            "text/markdown": "1",
            "text/html": [
              "1"
            ]
          },
          "metadata": {
            "tags": []
          }
        }
      ]
    },
    {
      "cell_type": "markdown",
      "metadata": {
        "id": "B5CXFyBk8XeC"
      },
      "source": [
        "se eu fizer uma prova de um concurso com 12 questoes. \"chutando\" todas as questoes, qual a probabilidade de acertar 7 questoes (4 alternativa cada questao)"
      ]
    },
    {
      "cell_type": "code",
      "metadata": {
        "colab": {
          "base_uri": "https://localhost:8080/",
          "height": 34
        },
        "id": "h6tDweyh8VBE",
        "outputId": "e5be0b10-a536-4123-ff52-475635bc81b7"
      },
      "source": [
        "chute <- dbinom(x = 7, size = 12, prob = 0.25)\n",
        "chute"
      ],
      "execution_count": null,
      "outputs": [
        {
          "output_type": "display_data",
          "data": {
            "text/plain": [
              "[1] 0.01147127"
            ],
            "text/latex": "0.0114712715148926",
            "text/markdown": "0.0114712715148926",
            "text/html": [
              "0.0114712715148926"
            ]
          },
          "metadata": {
            "tags": []
          }
        }
      ]
    },
    {
      "cell_type": "markdown",
      "metadata": {
        "id": "8A-4phOs8_WL"
      },
      "source": [
        "se eu passar 4 sinais de 4 tempos cada. Qual a probabilidade de eu pegar 3 ou mais sinais verdes?"
      ]
    },
    {
      "cell_type": "code",
      "metadata": {
        "colab": {
          "base_uri": "https://localhost:8080/",
          "height": 34
        },
        "id": "GxjdTL_881jI",
        "outputId": "0e660eeb-5083-49d0-9bdc-c779ebf19067"
      },
      "source": [
        "sinal_aberto2 <- pbinom(q = 2, size = 4, prob = 0.25, lower.tail = F)\n",
        "sinal_aberto2"
      ],
      "execution_count": null,
      "outputs": [
        {
          "output_type": "display_data",
          "data": {
            "text/plain": [
              "[1] 0.05078125"
            ],
            "text/latex": "0.05078125",
            "text/markdown": "0.05078125",
            "text/html": [
              "0.05078125"
            ]
          },
          "metadata": {
            "tags": []
          }
        }
      ]
    },
    {
      "cell_type": "code",
      "metadata": {
        "colab": {
          "base_uri": "https://localhost:8080/",
          "height": 34
        },
        "id": "0QQgCOun9np2",
        "outputId": "73e996f7-6ab8-429a-fbc6-b242c6f49cfb"
      },
      "source": [
        "sinal_aberto3 <- dbinom(x = 3, size = 4, prob = 0.25)\n",
        "sinal_aberto3"
      ],
      "execution_count": null,
      "outputs": [
        {
          "output_type": "display_data",
          "data": {
            "text/plain": [
              "[1] 0.046875"
            ],
            "text/latex": "0.046875",
            "text/markdown": "0.046875",
            "text/html": [
              "0.046875"
            ]
          },
          "metadata": {
            "tags": []
          }
        }
      ]
    },
    {
      "cell_type": "code",
      "metadata": {
        "colab": {
          "base_uri": "https://localhost:8080/",
          "height": 34
        },
        "id": "hEJWlqF19x_H",
        "outputId": "a7fc3b0b-8092-4d26-f4c9-a9faf729066a"
      },
      "source": [
        "sinal_aberto4 <- dbinom(x = 4, size = 4, prob = 0.25)\n",
        "sinal_aberto4"
      ],
      "execution_count": null,
      "outputs": [
        {
          "output_type": "display_data",
          "data": {
            "text/plain": [
              "[1] 0.00390625"
            ],
            "text/latex": "0.00390625",
            "text/markdown": "0.00390625",
            "text/html": [
              "0.00390625"
            ]
          },
          "metadata": {
            "tags": []
          }
        }
      ]
    },
    {
      "cell_type": "code",
      "metadata": {
        "colab": {
          "base_uri": "https://localhost:8080/",
          "height": 34
        },
        "id": "yxlI5hLV96An",
        "outputId": "11ea4e4b-dbf5-4beb-baf8-7de02cfe63f5"
      },
      "source": [
        "# cumulativa\n",
        "proba_cum <- dbinom(x = 3, size = 4, prob = 0.25) + dbinom(x = 4, size = 4, prob = 0.25)\n",
        "proba_cum"
      ],
      "execution_count": null,
      "outputs": [
        {
          "output_type": "display_data",
          "data": {
            "text/plain": [
              "[1] 0.05078125"
            ],
            "text/latex": "0.05078125",
            "text/markdown": "0.05078125",
            "text/html": [
              "0.05078125"
            ]
          },
          "metadata": {
            "tags": []
          }
        }
      ]
    },
    {
      "cell_type": "markdown",
      "metadata": {
        "id": "uWXzmP7SBuGS"
      },
      "source": [
        "#<font color=\"blue\">Distribuição de Poison</font>\n",
        "\n",
        "=> dpois = probabilidade pontual\n",
        "\n",
        "=> ppois = probabilidade cumulativa lower.tail False = maior que, cauda direita da distribuição."
      ]
    },
    {
      "cell_type": "markdown",
      "metadata": {
        "id": "-1QYbnXeCTyO"
      },
      "source": [
        "O numero de acidentes em um dia é igual a 2, qual a probabilidade de ocorrerem 3 em 1 dia:"
      ]
    },
    {
      "cell_type": "code",
      "metadata": {
        "colab": {
          "base_uri": "https://localhost:8080/",
          "height": 34
        },
        "id": "SClMnuHF-KlM",
        "outputId": "836092cd-0ee8-4dc6-ddc7-d87266f01064"
      },
      "source": [
        "tres_acidentes <- dpois(3, lambda = 2)\n",
        "tres_acidentes"
      ],
      "execution_count": null,
      "outputs": [
        {
          "output_type": "display_data",
          "data": {
            "text/plain": [
              "[1] 0.180447"
            ],
            "text/latex": "0.180447044315484",
            "text/markdown": "0.180447044315484",
            "text/html": [
              "0.180447044315484"
            ]
          },
          "metadata": {
            "tags": []
          }
        }
      ]
    },
    {
      "cell_type": "code",
      "metadata": {
        "colab": {
          "base_uri": "https://localhost:8080/",
          "height": 34
        },
        "id": "r82NuxPbC5n5",
        "outputId": "03e232a3-2502-4c03-baf2-62f11fb53cae"
      },
      "source": [
        "# ocorrer 3 ou menos acidentes em um dia?\n",
        "tres_ou_menos <- ppois(3, lambda = 2)\n",
        "tres_ou_menos"
      ],
      "execution_count": null,
      "outputs": [
        {
          "output_type": "display_data",
          "data": {
            "text/plain": [
              "[1] 0.8571235"
            ],
            "text/latex": "0.857123460498547",
            "text/markdown": "0.857123460498547",
            "text/html": [
              "0.857123460498547"
            ]
          },
          "metadata": {
            "tags": []
          }
        }
      ]
    },
    {
      "cell_type": "code",
      "metadata": {
        "colab": {
          "base_uri": "https://localhost:8080/"
        },
        "id": "0lKg6cZPDEmb",
        "outputId": "a3387be9-6277-494d-841f-71beda71ae00"
      },
      "source": [
        "# ocorrer menos de 3 acodentes em um dia?\n",
        "menos_tres <- ppois(2, lambda = 2)\n",
        "print(menos_tres)\n",
        "acidente_menor_3 <- dpois(0, lambda = 2) + dpois(1, lambda = 2) + dpois(2, lambda = 2)\n",
        "print(acidente_menor_3)"
      ],
      "execution_count": null,
      "outputs": [
        {
          "output_type": "stream",
          "text": [
            "[1] 0.6766764\n",
            "[1] 0.6766764\n"
          ],
          "name": "stdout"
        }
      ]
    },
    {
      "cell_type": "code",
      "metadata": {
        "colab": {
          "base_uri": "https://localhost:8080/",
          "height": 51
        },
        "id": "XYGP9-orEDNC",
        "outputId": "76042f22-1955-4374-e80b-8de6d6beaebb"
      },
      "source": [
        "# ocorrer mais de 3 acidentes em um dia?\n",
        "mais_de3 <- ppois(3, lambda = 2, lower.tail = F)\n",
        "print(mais_de3)\n",
        "# ou\n",
        "1 - ppois(3, lambda = 2)"
      ],
      "execution_count": null,
      "outputs": [
        {
          "output_type": "stream",
          "text": [
            "[1] 0.1428765\n"
          ],
          "name": "stdout"
        },
        {
          "output_type": "display_data",
          "data": {
            "text/plain": [
              "[1] 0.1428765"
            ],
            "text/latex": "0.142876539501453",
            "text/markdown": "0.142876539501453",
            "text/html": [
              "0.142876539501453"
            ]
          },
          "metadata": {
            "tags": []
          }
        }
      ]
    },
    {
      "cell_type": "markdown",
      "metadata": {
        "id": "2PnKJ2AxFnHm"
      },
      "source": [
        "#Qui-Quadrado"
      ]
    },
    {
      "cell_type": "code",
      "metadata": {
        "colab": {
          "base_uri": "https://localhost:8080/",
          "height": 128
        },
        "id": "OsiAwwkhEcyD",
        "outputId": "835043f1-b9b4-4293-cc88-f3dade40d0ec"
      },
      "source": [
        "# criando um conjunto de dados\n",
        "novela <- matrix(c(19,6,43,32), nrow = 2, byrow = T)\n",
        "rownames(novela) <- c(\"Masculino\", \"Feminino\")\n",
        "colnames(novela) <- c(\"Assiste\", \"Nao-Assiste\")\n",
        "novela"
      ],
      "execution_count": null,
      "outputs": [
        {
          "output_type": "display_data",
          "data": {
            "text/plain": [
              "          Assiste Nao-Assiste\n",
              "Masculino 19       6         \n",
              "Feminino  43      32         "
            ],
            "text/latex": "A matrix: 2 × 2 of type dbl\n\\begin{tabular}{r|ll}\n  & Assiste & Nao-Assiste\\\\\n\\hline\n\tMasculino & 19 &  6\\\\\n\tFeminino & 43 & 32\\\\\n\\end{tabular}\n",
            "text/markdown": "\nA matrix: 2 × 2 of type dbl\n\n| <!--/--> | Assiste | Nao-Assiste |\n|---|---|---|\n| Masculino | 19 |  6 |\n| Feminino | 43 | 32 |\n\n",
            "text/html": [
              "<table class=\"dataframe\">\n",
              "<caption>A matrix: 2 × 2 of type dbl</caption>\n",
              "<thead>\n",
              "\t<tr><th></th><th scope=col>Assiste</th><th scope=col>Nao-Assiste</th></tr>\n",
              "</thead>\n",
              "<tbody>\n",
              "\t<tr><th scope=row>Masculino</th><td>19</td><td> 6</td></tr>\n",
              "\t<tr><th scope=row>Feminino</th><td>43</td><td>32</td></tr>\n",
              "</tbody>\n",
              "</table>\n"
            ]
          },
          "metadata": {
            "tags": []
          }
        }
      ]
    },
    {
      "cell_type": "markdown",
      "metadata": {
        "id": "Xn52lHd2Vh20"
      },
      "source": [
        "Executar o teste de Qui-Quadrado para verificar se há diferença significativa na proporção de quem assiste ou não novela\n",
        "\n",
        "se o valor p for maior que 0.05 nao há evidencias significativa.(hipotese nula)"
      ]
    },
    {
      "cell_type": "code",
      "metadata": {
        "colab": {
          "base_uri": "https://localhost:8080/",
          "height": 102
        },
        "id": "2sRdtn69VZs9",
        "outputId": "d9f6a706-4562-424d-b66e-cc93abe0a57e"
      },
      "source": [
        "chisq.test(novela)"
      ],
      "execution_count": null,
      "outputs": [
        {
          "output_type": "display_data",
          "data": {
            "text/plain": [
              "\n",
              "\tPearson's Chi-squared test with Yates' continuity correction\n",
              "\n",
              "data:  novela\n",
              "X-squared = 2.0374, df = 1, p-value = 0.1535\n"
            ]
          },
          "metadata": {
            "tags": []
          }
        }
      ]
    },
    {
      "cell_type": "markdown",
      "metadata": {
        "id": "e-KQew5gWXYt"
      },
      "source": [
        "Alterando a proporção de homens que assiste e não assiste.\n"
      ]
    },
    {
      "cell_type": "code",
      "metadata": {
        "colab": {
          "base_uri": "https://localhost:8080/",
          "height": 213
        },
        "id": "vn0bVaUfWNdD",
        "outputId": "9e1d1be0-2a27-464b-b2fe-e93d0ac5600a"
      },
      "source": [
        "# criando um conjunto de dados\n",
        "novela1 <- matrix(c(22, 3,43,32), nrow = 2, byrow = T)\n",
        "rownames(novela1) <- c(\"Masculino\", \"Feminino\")\n",
        "colnames(novela1) <- c(\"Assiste\", \"Nao-Assiste\")\n",
        "novela1\n",
        "chisq.test(novela1)"
      ],
      "execution_count": null,
      "outputs": [
        {
          "output_type": "display_data",
          "data": {
            "text/plain": [
              "          Assiste Nao-Assiste\n",
              "Masculino 22       3         \n",
              "Feminino  43      32         "
            ],
            "text/latex": "A matrix: 2 × 2 of type dbl\n\\begin{tabular}{r|ll}\n  & Assiste & Nao-Assiste\\\\\n\\hline\n\tMasculino & 22 &  3\\\\\n\tFeminino & 43 & 32\\\\\n\\end{tabular}\n",
            "text/markdown": "\nA matrix: 2 × 2 of type dbl\n\n| <!--/--> | Assiste | Nao-Assiste |\n|---|---|---|\n| Masculino | 22 |  3 |\n| Feminino | 43 | 32 |\n\n",
            "text/html": [
              "<table class=\"dataframe\">\n",
              "<caption>A matrix: 2 × 2 of type dbl</caption>\n",
              "<thead>\n",
              "\t<tr><th></th><th scope=col>Assiste</th><th scope=col>Nao-Assiste</th></tr>\n",
              "</thead>\n",
              "<tbody>\n",
              "\t<tr><th scope=row>Masculino</th><td>22</td><td> 3</td></tr>\n",
              "\t<tr><th scope=row>Feminino</th><td>43</td><td>32</td></tr>\n",
              "</tbody>\n",
              "</table>\n"
            ]
          },
          "metadata": {
            "tags": []
          }
        },
        {
          "output_type": "display_data",
          "data": {
            "text/plain": [
              "\n",
              "\tPearson's Chi-squared test with Yates' continuity correction\n",
              "\n",
              "data:  novela1\n",
              "X-squared = 6.4615, df = 1, p-value = 0.01102\n"
            ]
          },
          "metadata": {
            "tags": []
          }
        }
      ]
    },
    {
      "cell_type": "markdown",
      "metadata": {
        "id": "hDfNu4cHYGOr"
      },
      "source": [
        "#<font color=\"green\">ANOVA</font>"
      ]
    },
    {
      "cell_type": "code",
      "metadata": {
        "colab": {
          "base_uri": "https://localhost:8080/",
          "height": 841
        },
        "id": "sBYlAVvKWuM-",
        "outputId": "8e34e0ea-8f98-4301-f67c-0fedeeb50abb"
      },
      "source": [
        "tratamento = read.csv(\"dados/anova.csv\", sep = \";\")\n",
        "tratamento"
      ],
      "execution_count": null,
      "outputs": [
        {
          "output_type": "display_data",
          "data": {
            "text/plain": [
              "   Sexo Remedio Horas\n",
              "1  F    A        5   \n",
              "2  F    A       10   \n",
              "3  F    A        7   \n",
              "4  F    A        7   \n",
              "5  M    A        7   \n",
              "6  M    A        6   \n",
              "7  M    A        9   \n",
              "8  M    A        9   \n",
              "9  F    B        5   \n",
              "10 F    B        5   \n",
              "11 F    B        5   \n",
              "12 F    B        8   \n",
              "13 M    B        7   \n",
              "14 M    B        8   \n",
              "15 M    B       10   \n",
              "16 M    B        7   \n",
              "17 F    C       10   \n",
              "18 F    C       10   \n",
              "19 F    C        6   \n",
              "20 F    C        6   \n",
              "21 M    C       10   \n",
              "22 M    C        6   \n",
              "23 M    C       10   \n",
              "24 M    C        5   "
            ],
            "text/latex": "A data.frame: 24 × 3\n\\begin{tabular}{lll}\n Sexo & Remedio & Horas\\\\\n <chr> & <chr> & <int>\\\\\n\\hline\n\t F & A &  5\\\\\n\t F & A & 10\\\\\n\t F & A &  7\\\\\n\t F & A &  7\\\\\n\t M & A &  7\\\\\n\t M & A &  6\\\\\n\t M & A &  9\\\\\n\t M & A &  9\\\\\n\t F & B &  5\\\\\n\t F & B &  5\\\\\n\t F & B &  5\\\\\n\t F & B &  8\\\\\n\t M & B &  7\\\\\n\t M & B &  8\\\\\n\t M & B & 10\\\\\n\t M & B &  7\\\\\n\t F & C & 10\\\\\n\t F & C & 10\\\\\n\t F & C &  6\\\\\n\t F & C &  6\\\\\n\t M & C & 10\\\\\n\t M & C &  6\\\\\n\t M & C & 10\\\\\n\t M & C &  5\\\\\n\\end{tabular}\n",
            "text/markdown": "\nA data.frame: 24 × 3\n\n| Sexo &lt;chr&gt; | Remedio &lt;chr&gt; | Horas &lt;int&gt; |\n|---|---|---|\n| F | A |  5 |\n| F | A | 10 |\n| F | A |  7 |\n| F | A |  7 |\n| M | A |  7 |\n| M | A |  6 |\n| M | A |  9 |\n| M | A |  9 |\n| F | B |  5 |\n| F | B |  5 |\n| F | B |  5 |\n| F | B |  8 |\n| M | B |  7 |\n| M | B |  8 |\n| M | B | 10 |\n| M | B |  7 |\n| F | C | 10 |\n| F | C | 10 |\n| F | C |  6 |\n| F | C |  6 |\n| M | C | 10 |\n| M | C |  6 |\n| M | C | 10 |\n| M | C |  5 |\n\n",
            "text/html": [
              "<table class=\"dataframe\">\n",
              "<caption>A data.frame: 24 × 3</caption>\n",
              "<thead>\n",
              "\t<tr><th scope=col>Sexo</th><th scope=col>Remedio</th><th scope=col>Horas</th></tr>\n",
              "\t<tr><th scope=col>&lt;chr&gt;</th><th scope=col>&lt;chr&gt;</th><th scope=col>&lt;int&gt;</th></tr>\n",
              "</thead>\n",
              "<tbody>\n",
              "\t<tr><td>F</td><td>A</td><td> 5</td></tr>\n",
              "\t<tr><td>F</td><td>A</td><td>10</td></tr>\n",
              "\t<tr><td>F</td><td>A</td><td> 7</td></tr>\n",
              "\t<tr><td>F</td><td>A</td><td> 7</td></tr>\n",
              "\t<tr><td>M</td><td>A</td><td> 7</td></tr>\n",
              "\t<tr><td>M</td><td>A</td><td> 6</td></tr>\n",
              "\t<tr><td>M</td><td>A</td><td> 9</td></tr>\n",
              "\t<tr><td>M</td><td>A</td><td> 9</td></tr>\n",
              "\t<tr><td>F</td><td>B</td><td> 5</td></tr>\n",
              "\t<tr><td>F</td><td>B</td><td> 5</td></tr>\n",
              "\t<tr><td>F</td><td>B</td><td> 5</td></tr>\n",
              "\t<tr><td>F</td><td>B</td><td> 8</td></tr>\n",
              "\t<tr><td>M</td><td>B</td><td> 7</td></tr>\n",
              "\t<tr><td>M</td><td>B</td><td> 8</td></tr>\n",
              "\t<tr><td>M</td><td>B</td><td>10</td></tr>\n",
              "\t<tr><td>M</td><td>B</td><td> 7</td></tr>\n",
              "\t<tr><td>F</td><td>C</td><td>10</td></tr>\n",
              "\t<tr><td>F</td><td>C</td><td>10</td></tr>\n",
              "\t<tr><td>F</td><td>C</td><td> 6</td></tr>\n",
              "\t<tr><td>F</td><td>C</td><td> 6</td></tr>\n",
              "\t<tr><td>M</td><td>C</td><td>10</td></tr>\n",
              "\t<tr><td>M</td><td>C</td><td> 6</td></tr>\n",
              "\t<tr><td>M</td><td>C</td><td>10</td></tr>\n",
              "\t<tr><td>M</td><td>C</td><td> 5</td></tr>\n",
              "</tbody>\n",
              "</table>\n"
            ]
          },
          "metadata": {
            "tags": []
          }
        }
      ]
    },
    {
      "cell_type": "code",
      "metadata": {
        "colab": {
          "base_uri": "https://localhost:8080/",
          "height": 437
        },
        "id": "4sVozCrdZTKm",
        "outputId": "203a33f8-20c4-45a8-8680-8303cfc2a755"
      },
      "source": [
        "# visualizando a distribuição dos remedios por hora\n",
        "boxplot(tratamento$Horas ~ tratamento$Remedio)"
      ],
      "execution_count": null,
      "outputs": [
        {
          "output_type": "display_data",
          "data": {
            "image/png": "[encoded data removed]",
            "text/plain": [
              "plot without title"
            ]
          },
          "metadata": {
            "tags": [],
            "image/png": {
              "width": 420,
              "height": 420
            }
          }
        }
      ]
    },
    {
      "cell_type": "markdown",
      "metadata": {
        "id": "3-KdRbWHZoPo"
      },
      "source": [
        "# Análise de Variância\n",
        "\n",
        "observar o valor de p maior que 0.05 (pr(>pf))\n",
        "\n",
        "Hipotese Nula de que não há diferença significativa."
      ]
    },
    {
      "cell_type": "code",
      "metadata": {
        "colab": {
          "base_uri": "https://localhost:8080/",
          "height": 68
        },
        "id": "G3CHneYLZh9A",
        "outputId": "95d0bfd5-0a13-4d1e-b07f-0c6fe0233f29"
      },
      "source": [
        "an = aov(Horas ~ Remedio, data=tratamento)\n",
        "summary(an)"
      ],
      "execution_count": null,
      "outputs": [
        {
          "output_type": "display_data",
          "data": {
            "text/plain": [
              "            Df Sum Sq Mean Sq F value Pr(>F)\n",
              "Remedio      2   4.08   2.042   0.538  0.592\n",
              "Residuals   21  79.75   3.798               "
            ]
          },
          "metadata": {
            "tags": []
          }
        }
      ]
    },
    {
      "cell_type": "markdown",
      "metadata": {
        "id": "DITsue55bAgu"
      },
      "source": [
        "# Anova de dois Fatores"
      ]
    },
    {
      "cell_type": "code",
      "metadata": {
        "colab": {
          "base_uri": "https://localhost:8080/",
          "height": 102
        },
        "id": "YecAEQlPaRvi",
        "outputId": "f732efc4-c083-4cb5-906a-0efd43c24846"
      },
      "source": [
        "an2 = aov(Horas ~ Remedio * Sexo, data = tratamento)\n",
        "summary(an2)"
      ],
      "execution_count": null,
      "outputs": [
        {
          "output_type": "display_data",
          "data": {
            "text/plain": [
              "             Df Sum Sq Mean Sq F value Pr(>F)\n",
              "Remedio       2   4.08   2.042   0.533  0.596\n",
              "Sexo          1   4.17   4.167   1.087  0.311\n",
              "Remedio:Sexo  2   6.58   3.292   0.859  0.440\n",
              "Residuals    18  69.00   3.833               "
            ]
          },
          "metadata": {
            "tags": []
          }
        }
      ]
    },
    {
      "cell_type": "markdown",
      "metadata": {
        "id": "dxwco5MWbQMN"
      },
      "source": [
        "Nenhum valor de p mostra diferença significativa."
      ]
    },
    {
      "cell_type": "markdown",
      "metadata": {
        "id": "iec8XHx2bXPt"
      },
      "source": [
        "#<font color=\"blue\">Teste de Tukey</font>\n",
        "\n",
        "Se houver diferença o teste de tukey é executado."
      ]
    },
    {
      "cell_type": "code",
      "metadata": {
        "colab": {
          "base_uri": "https://localhost:8080/",
          "height": 187
        },
        "id": "tOEi2Y1KbNny",
        "outputId": "60765eb7-e33c-4e92-a8de-9c7d3fce71b4"
      },
      "source": [
        "tukey = TukeyHSD(an)\n",
        "tukey"
      ],
      "execution_count": null,
      "outputs": [
        {
          "output_type": "display_data",
          "data": {
            "text/plain": [
              "  Tukey multiple comparisons of means\n",
              "    95% family-wise confidence level\n",
              "\n",
              "Fit: aov(formula = Horas ~ Remedio, data = tratamento)\n",
              "\n",
              "$Remedio\n",
              "      diff       lwr      upr     p adj\n",
              "B-A -0.625 -3.080978 1.830978 0.7991405\n",
              "C-A  0.375 -2.080978 2.830978 0.9218996\n",
              "C-B  1.000 -1.455978 3.455978 0.5689472\n"
            ]
          },
          "metadata": {
            "tags": []
          }
        }
      ]
    },
    {
      "cell_type": "code",
      "metadata": {
        "colab": {
          "base_uri": "https://localhost:8080/",
          "height": 437
        },
        "id": "HATkl2VJb6oX",
        "outputId": "e544560f-421e-475f-e01c-ceff44f56ab2"
      },
      "source": [
        "# plot\n",
        "plot(tukey)"
      ],
      "execution_count": null,
      "outputs": [
        {
          "output_type": "display_data",
          "data": {
            "image/png": "[encoded data removed]",
            "text/plain": [
              "Plot with title “95% family-wise confidence level\n",
              "”"
            ]
          },
          "metadata": {
            "tags": [],
            "image/png": {
              "width": 420,
              "height": 420
            }
          }
        }
      ]
    },
    {
      "cell_type": "code",
      "metadata": {
        "id": "nzHxNB8Tea5u"
      },
      "source": [
        ""
      ],
      "execution_count": null,
      "outputs": []
    }
  ]
}